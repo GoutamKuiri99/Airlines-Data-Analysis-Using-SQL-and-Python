{
 "cells": [
  {
   "cell_type": "markdown",
   "id": "cc3a470f-34f5-4cb6-94de-9020720a9984",
   "metadata": {},
   "source": [
    "### **Objective**\n",
    "The goal of this project using SQL would be to identify oppurtunities to increase the occupancy rate on low-performing flights,which can ultimately lead to increased profitability for the airline."
   ]
  },
  {
   "cell_type": "markdown",
   "id": "f135792f-7835-4480-963f-a7cae23b6061",
   "metadata": {},
   "source": [
    "### **Importing Libraries**"
   ]
  },
  {
   "cell_type": "code",
   "execution_count": 1,
   "id": "0eea4b4f-bae8-4b5b-9c25-2bc779bfae71",
   "metadata": {},
   "outputs": [],
   "source": [
    "import sqlite3 \n",
    "import numpy as np\n",
    "import pandas as pd\n",
    "import matplotlib.pyplot as plt\n",
    "import seaborn as sns\n",
    "import warnings\n",
    "warnings.filterwarnings(\"ignore\")"
   ]
  },
  {
   "cell_type": "markdown",
   "id": "7e589905-f122-4b23-83bd-854a468abd23",
   "metadata": {},
   "source": [
    "### **Create Database Connection**"
   ]
  },
  {
   "cell_type": "code",
   "execution_count": 2,
   "id": "027fd6fe-c422-43d0-9da2-b0f5a9f1784f",
   "metadata": {},
   "outputs": [],
   "source": [
    "database='travel.sqlite'\n",
    "connection=sqlite3.connect(database)\n",
    "cursor=connection.cursor()"
   ]
  },
  {
   "cell_type": "markdown",
   "id": "a536272f-7b22-4e4f-9c48-09b58e4940bc",
   "metadata": {},
   "source": [
    "### **List of Tables**"
   ]
  },
  {
   "cell_type": "code",
   "execution_count": 3,
   "id": "f4dc4504-526b-4fbc-8b6e-5b70f7c44bd3",
   "metadata": {},
   "outputs": [],
   "source": [
    "query=\"select *from sqlite_master where type='table'; \""
   ]
  },
  {
   "cell_type": "code",
   "execution_count": 4,
   "id": "009a0e44-f89e-4a5b-9141-9515052d32e8",
   "metadata": {},
   "outputs": [
    {
     "data": {
      "text/html": [
       "<div>\n",
       "<style scoped>\n",
       "    .dataframe tbody tr th:only-of-type {\n",
       "        vertical-align: middle;\n",
       "    }\n",
       "\n",
       "    .dataframe tbody tr th {\n",
       "        vertical-align: top;\n",
       "    }\n",
       "\n",
       "    .dataframe thead th {\n",
       "        text-align: right;\n",
       "    }\n",
       "</style>\n",
       "<table border=\"1\" class=\"dataframe\">\n",
       "  <thead>\n",
       "    <tr style=\"text-align: right;\">\n",
       "      <th></th>\n",
       "      <th>type</th>\n",
       "      <th>name</th>\n",
       "      <th>tbl_name</th>\n",
       "      <th>rootpage</th>\n",
       "      <th>sql</th>\n",
       "    </tr>\n",
       "  </thead>\n",
       "  <tbody>\n",
       "    <tr>\n",
       "      <th>0</th>\n",
       "      <td>table</td>\n",
       "      <td>aircrafts_data</td>\n",
       "      <td>aircrafts_data</td>\n",
       "      <td>2</td>\n",
       "      <td>CREATE TABLE aircrafts_data (\\r\\n    aircraft_...</td>\n",
       "    </tr>\n",
       "    <tr>\n",
       "      <th>1</th>\n",
       "      <td>table</td>\n",
       "      <td>airports_data</td>\n",
       "      <td>airports_data</td>\n",
       "      <td>3</td>\n",
       "      <td>CREATE TABLE airports_data (\\r\\n    airport_co...</td>\n",
       "    </tr>\n",
       "    <tr>\n",
       "      <th>2</th>\n",
       "      <td>table</td>\n",
       "      <td>boarding_passes</td>\n",
       "      <td>boarding_passes</td>\n",
       "      <td>4</td>\n",
       "      <td>CREATE TABLE boarding_passes (\\r\\n    ticket_n...</td>\n",
       "    </tr>\n",
       "    <tr>\n",
       "      <th>3</th>\n",
       "      <td>table</td>\n",
       "      <td>bookings</td>\n",
       "      <td>bookings</td>\n",
       "      <td>5</td>\n",
       "      <td>CREATE TABLE bookings (\\r\\n    book_ref charac...</td>\n",
       "    </tr>\n",
       "    <tr>\n",
       "      <th>4</th>\n",
       "      <td>table</td>\n",
       "      <td>flights</td>\n",
       "      <td>flights</td>\n",
       "      <td>6</td>\n",
       "      <td>CREATE TABLE flights (\\r\\n    flight_id intege...</td>\n",
       "    </tr>\n",
       "    <tr>\n",
       "      <th>5</th>\n",
       "      <td>table</td>\n",
       "      <td>seats</td>\n",
       "      <td>seats</td>\n",
       "      <td>7</td>\n",
       "      <td>CREATE TABLE seats (\\r\\n    aircraft_code char...</td>\n",
       "    </tr>\n",
       "    <tr>\n",
       "      <th>6</th>\n",
       "      <td>table</td>\n",
       "      <td>ticket_flights</td>\n",
       "      <td>ticket_flights</td>\n",
       "      <td>8</td>\n",
       "      <td>CREATE TABLE ticket_flights (\\r\\n    ticket_no...</td>\n",
       "    </tr>\n",
       "    <tr>\n",
       "      <th>7</th>\n",
       "      <td>table</td>\n",
       "      <td>tickets</td>\n",
       "      <td>tickets</td>\n",
       "      <td>9</td>\n",
       "      <td>CREATE TABLE tickets (\\r\\n    ticket_no charac...</td>\n",
       "    </tr>\n",
       "  </tbody>\n",
       "</table>\n",
       "</div>"
      ],
      "text/plain": [
       "    type             name         tbl_name  rootpage  \\\n",
       "0  table   aircrafts_data   aircrafts_data         2   \n",
       "1  table    airports_data    airports_data         3   \n",
       "2  table  boarding_passes  boarding_passes         4   \n",
       "3  table         bookings         bookings         5   \n",
       "4  table          flights          flights         6   \n",
       "5  table            seats            seats         7   \n",
       "6  table   ticket_flights   ticket_flights         8   \n",
       "7  table          tickets          tickets         9   \n",
       "\n",
       "                                                 sql  \n",
       "0  CREATE TABLE aircrafts_data (\\r\\n    aircraft_...  \n",
       "1  CREATE TABLE airports_data (\\r\\n    airport_co...  \n",
       "2  CREATE TABLE boarding_passes (\\r\\n    ticket_n...  \n",
       "3  CREATE TABLE bookings (\\r\\n    book_ref charac...  \n",
       "4  CREATE TABLE flights (\\r\\n    flight_id intege...  \n",
       "5  CREATE TABLE seats (\\r\\n    aircraft_code char...  \n",
       "6  CREATE TABLE ticket_flights (\\r\\n    ticket_no...  \n",
       "7  CREATE TABLE tickets (\\r\\n    ticket_no charac...  "
      ]
     },
     "execution_count": 4,
     "metadata": {},
     "output_type": "execute_result"
    }
   ],
   "source": [
    "tables=pd.read_sql(query,connection)\n",
    "tables"
   ]
  },
  {
   "cell_type": "markdown",
   "id": "56bf7726-fce7-4ef6-a829-dde2912d4a50",
   "metadata": {},
   "source": [
    "**Another approach**"
   ]
  },
  {
   "cell_type": "code",
   "execution_count": 5,
   "id": "3a64567b-d57f-4f77-9fc0-1b0dacabd273",
   "metadata": {},
   "outputs": [
    {
     "name": "stdout",
     "output_type": "stream",
     "text": [
      "List of tables present in the database\n"
     ]
    },
    {
     "data": {
      "text/plain": [
       "['aircrafts_data',\n",
       " 'airports_data',\n",
       " 'boarding_passes',\n",
       " 'bookings',\n",
       " 'flights',\n",
       " 'seats',\n",
       " 'ticket_flights',\n",
       " 'tickets']"
      ]
     },
     "execution_count": 5,
     "metadata": {},
     "output_type": "execute_result"
    }
   ],
   "source": [
    "cursor=connection.cursor()\n",
    "cursor.execute(\"select *from sqlite_master where type='table';\")\n",
    "print(\"List of tables present in the database\")\n",
    "table_list=[table[1] for table in cursor.fetchall()]\n",
    "table_list"
   ]
  },
  {
   "cell_type": "markdown",
   "id": "3ac2370e-9a61-4f1e-b2f8-1994465c839a",
   "metadata": {},
   "source": [
    "### **Data Exploration**"
   ]
  },
  {
   "cell_type": "markdown",
   "id": "b2a97b22-f9b8-4f8a-9b8c-c61a7f5224cd",
   "metadata": {},
   "source": [
    "##### Display all the data from each table in the database one by one to understand the information they contain."
   ]
  },
  {
   "cell_type": "markdown",
   "id": "62a4c39e-1b1a-4ccd-914b-81aeaa7bcf2c",
   "metadata": {},
   "source": [
    "**Show aircrafts_data table data**"
   ]
  },
  {
   "cell_type": "code",
   "execution_count": 6,
   "id": "fe5907d5-c984-4df6-a823-5b79dcce2920",
   "metadata": {},
   "outputs": [
    {
     "data": {
      "text/html": [
       "<div>\n",
       "<style scoped>\n",
       "    .dataframe tbody tr th:only-of-type {\n",
       "        vertical-align: middle;\n",
       "    }\n",
       "\n",
       "    .dataframe tbody tr th {\n",
       "        vertical-align: top;\n",
       "    }\n",
       "\n",
       "    .dataframe thead th {\n",
       "        text-align: right;\n",
       "    }\n",
       "</style>\n",
       "<table border=\"1\" class=\"dataframe\">\n",
       "  <thead>\n",
       "    <tr style=\"text-align: right;\">\n",
       "      <th></th>\n",
       "      <th>aircraft_code</th>\n",
       "      <th>model</th>\n",
       "      <th>range</th>\n",
       "    </tr>\n",
       "  </thead>\n",
       "  <tbody>\n",
       "    <tr>\n",
       "      <th>0</th>\n",
       "      <td>773</td>\n",
       "      <td>{\"en\": \"Boeing 777-300\", \"ru\": \"Боинг 777-300\"}</td>\n",
       "      <td>11100</td>\n",
       "    </tr>\n",
       "    <tr>\n",
       "      <th>1</th>\n",
       "      <td>763</td>\n",
       "      <td>{\"en\": \"Boeing 767-300\", \"ru\": \"Боинг 767-300\"}</td>\n",
       "      <td>7900</td>\n",
       "    </tr>\n",
       "    <tr>\n",
       "      <th>2</th>\n",
       "      <td>SU9</td>\n",
       "      <td>{\"en\": \"Sukhoi Superjet-100\", \"ru\": \"Сухой Суп...</td>\n",
       "      <td>3000</td>\n",
       "    </tr>\n",
       "    <tr>\n",
       "      <th>3</th>\n",
       "      <td>320</td>\n",
       "      <td>{\"en\": \"Airbus A320-200\", \"ru\": \"Аэробус A320-...</td>\n",
       "      <td>5700</td>\n",
       "    </tr>\n",
       "    <tr>\n",
       "      <th>4</th>\n",
       "      <td>321</td>\n",
       "      <td>{\"en\": \"Airbus A321-200\", \"ru\": \"Аэробус A321-...</td>\n",
       "      <td>5600</td>\n",
       "    </tr>\n",
       "  </tbody>\n",
       "</table>\n",
       "</div>"
      ],
      "text/plain": [
       "  aircraft_code                                              model  range\n",
       "0           773    {\"en\": \"Boeing 777-300\", \"ru\": \"Боинг 777-300\"}  11100\n",
       "1           763    {\"en\": \"Boeing 767-300\", \"ru\": \"Боинг 767-300\"}   7900\n",
       "2           SU9  {\"en\": \"Sukhoi Superjet-100\", \"ru\": \"Сухой Суп...   3000\n",
       "3           320  {\"en\": \"Airbus A320-200\", \"ru\": \"Аэробус A320-...   5700\n",
       "4           321  {\"en\": \"Airbus A321-200\", \"ru\": \"Аэробус A321-...   5600"
      ]
     },
     "execution_count": 6,
     "metadata": {},
     "output_type": "execute_result"
    }
   ],
   "source": [
    "aircrafts_data=pd.read_sql_query(\"select *from aircrafts_data\",connection)\n",
    "aircrafts_data.head()"
   ]
  },
  {
   "cell_type": "code",
   "execution_count": 7,
   "id": "6c02de27-3408-41fe-b460-56833b918a1a",
   "metadata": {},
   "outputs": [
    {
     "name": "stdout",
     "output_type": "stream",
     "text": [
      "<class 'pandas.core.frame.DataFrame'>\n",
      "RangeIndex: 9 entries, 0 to 8\n",
      "Data columns (total 3 columns):\n",
      " #   Column         Non-Null Count  Dtype \n",
      "---  ------         --------------  ----- \n",
      " 0   aircraft_code  9 non-null      object\n",
      " 1   model          9 non-null      object\n",
      " 2   range          9 non-null      int64 \n",
      "dtypes: int64(1), object(2)\n",
      "memory usage: 348.0+ bytes\n"
     ]
    }
   ],
   "source": [
    "aircrafts_data.info()"
   ]
  },
  {
   "cell_type": "markdown",
   "id": "cd7aca8c-ea84-46c8-a94e-848f1a595dea",
   "metadata": {},
   "source": [
    "**Show airports_data table data**"
   ]
  },
  {
   "cell_type": "code",
   "execution_count": 8,
   "id": "901f4252-2944-40f7-badb-5effbb1b0698",
   "metadata": {},
   "outputs": [
    {
     "data": {
      "text/html": [
       "<div>\n",
       "<style scoped>\n",
       "    .dataframe tbody tr th:only-of-type {\n",
       "        vertical-align: middle;\n",
       "    }\n",
       "\n",
       "    .dataframe tbody tr th {\n",
       "        vertical-align: top;\n",
       "    }\n",
       "\n",
       "    .dataframe thead th {\n",
       "        text-align: right;\n",
       "    }\n",
       "</style>\n",
       "<table border=\"1\" class=\"dataframe\">\n",
       "  <thead>\n",
       "    <tr style=\"text-align: right;\">\n",
       "      <th></th>\n",
       "      <th>airport_code</th>\n",
       "      <th>airport_name</th>\n",
       "      <th>city</th>\n",
       "      <th>coordinates</th>\n",
       "      <th>timezone</th>\n",
       "    </tr>\n",
       "  </thead>\n",
       "  <tbody>\n",
       "    <tr>\n",
       "      <th>0</th>\n",
       "      <td>YKS</td>\n",
       "      <td>{\"en\": \"Yakutsk Airport\", \"ru\": \"Якутск\"}</td>\n",
       "      <td>{\"en\": \"Yakutsk\", \"ru\": \"Якутск\"}</td>\n",
       "      <td>(129.77099609375,62.0932998657226562)</td>\n",
       "      <td>Asia/Yakutsk</td>\n",
       "    </tr>\n",
       "    <tr>\n",
       "      <th>1</th>\n",
       "      <td>MJZ</td>\n",
       "      <td>{\"en\": \"Mirny Airport\", \"ru\": \"Мирный\"}</td>\n",
       "      <td>{\"en\": \"Mirnyj\", \"ru\": \"Мирный\"}</td>\n",
       "      <td>(114.03900146484375,62.534698486328125)</td>\n",
       "      <td>Asia/Yakutsk</td>\n",
       "    </tr>\n",
       "    <tr>\n",
       "      <th>2</th>\n",
       "      <td>KHV</td>\n",
       "      <td>{\"en\": \"Khabarovsk-Novy Airport\", \"ru\": \"Хабар...</td>\n",
       "      <td>{\"en\": \"Khabarovsk\", \"ru\": \"Хабаровск\"}</td>\n",
       "      <td>(135.18800354004,48.5279998779300001)</td>\n",
       "      <td>Asia/Vladivostok</td>\n",
       "    </tr>\n",
       "    <tr>\n",
       "      <th>3</th>\n",
       "      <td>PKC</td>\n",
       "      <td>{\"en\": \"Yelizovo Airport\", \"ru\": \"Елизово\"}</td>\n",
       "      <td>{\"en\": \"Petropavlovsk\", \"ru\": \"Петропавловск-К...</td>\n",
       "      <td>(158.453994750976562,53.1679000854492188)</td>\n",
       "      <td>Asia/Kamchatka</td>\n",
       "    </tr>\n",
       "  </tbody>\n",
       "</table>\n",
       "</div>"
      ],
      "text/plain": [
       "  airport_code                                       airport_name  \\\n",
       "0          YKS          {\"en\": \"Yakutsk Airport\", \"ru\": \"Якутск\"}   \n",
       "1          MJZ            {\"en\": \"Mirny Airport\", \"ru\": \"Мирный\"}   \n",
       "2          KHV  {\"en\": \"Khabarovsk-Novy Airport\", \"ru\": \"Хабар...   \n",
       "3          PKC        {\"en\": \"Yelizovo Airport\", \"ru\": \"Елизово\"}   \n",
       "\n",
       "                                                city  \\\n",
       "0                  {\"en\": \"Yakutsk\", \"ru\": \"Якутск\"}   \n",
       "1                   {\"en\": \"Mirnyj\", \"ru\": \"Мирный\"}   \n",
       "2            {\"en\": \"Khabarovsk\", \"ru\": \"Хабаровск\"}   \n",
       "3  {\"en\": \"Petropavlovsk\", \"ru\": \"Петропавловск-К...   \n",
       "\n",
       "                                 coordinates          timezone  \n",
       "0      (129.77099609375,62.0932998657226562)      Asia/Yakutsk  \n",
       "1    (114.03900146484375,62.534698486328125)      Asia/Yakutsk  \n",
       "2      (135.18800354004,48.5279998779300001)  Asia/Vladivostok  \n",
       "3  (158.453994750976562,53.1679000854492188)    Asia/Kamchatka  "
      ]
     },
     "execution_count": 8,
     "metadata": {},
     "output_type": "execute_result"
    }
   ],
   "source": [
    "airports_data=pd.read_sql_query(\"select *from airports_data\",connection)\n",
    "airports_data.head(4)"
   ]
  },
  {
   "cell_type": "code",
   "execution_count": 9,
   "id": "f3635bd8-f418-4abb-99a2-5ccf6014bb63",
   "metadata": {},
   "outputs": [
    {
     "name": "stdout",
     "output_type": "stream",
     "text": [
      "<class 'pandas.core.frame.DataFrame'>\n",
      "RangeIndex: 104 entries, 0 to 103\n",
      "Data columns (total 5 columns):\n",
      " #   Column        Non-Null Count  Dtype \n",
      "---  ------        --------------  ----- \n",
      " 0   airport_code  104 non-null    object\n",
      " 1   airport_name  104 non-null    object\n",
      " 2   city          104 non-null    object\n",
      " 3   coordinates   104 non-null    object\n",
      " 4   timezone      104 non-null    object\n",
      "dtypes: object(5)\n",
      "memory usage: 4.2+ KB\n"
     ]
    }
   ],
   "source": [
    "airports_data.info()"
   ]
  },
  {
   "cell_type": "markdown",
   "id": "5088fc72-792c-423f-b551-5afce5ee9127",
   "metadata": {},
   "source": [
    "**Show boarding_passes table data**"
   ]
  },
  {
   "cell_type": "code",
   "execution_count": 10,
   "id": "68dab89d-ed6a-4d89-870c-08efc82776b5",
   "metadata": {},
   "outputs": [
    {
     "data": {
      "text/html": [
       "<div>\n",
       "<style scoped>\n",
       "    .dataframe tbody tr th:only-of-type {\n",
       "        vertical-align: middle;\n",
       "    }\n",
       "\n",
       "    .dataframe tbody tr th {\n",
       "        vertical-align: top;\n",
       "    }\n",
       "\n",
       "    .dataframe thead th {\n",
       "        text-align: right;\n",
       "    }\n",
       "</style>\n",
       "<table border=\"1\" class=\"dataframe\">\n",
       "  <thead>\n",
       "    <tr style=\"text-align: right;\">\n",
       "      <th></th>\n",
       "      <th>ticket_no</th>\n",
       "      <th>flight_id</th>\n",
       "      <th>boarding_no</th>\n",
       "      <th>seat_no</th>\n",
       "    </tr>\n",
       "  </thead>\n",
       "  <tbody>\n",
       "    <tr>\n",
       "      <th>0</th>\n",
       "      <td>0005435212351</td>\n",
       "      <td>30625</td>\n",
       "      <td>1</td>\n",
       "      <td>2D</td>\n",
       "    </tr>\n",
       "    <tr>\n",
       "      <th>1</th>\n",
       "      <td>0005435212386</td>\n",
       "      <td>30625</td>\n",
       "      <td>2</td>\n",
       "      <td>3G</td>\n",
       "    </tr>\n",
       "    <tr>\n",
       "      <th>2</th>\n",
       "      <td>0005435212381</td>\n",
       "      <td>30625</td>\n",
       "      <td>3</td>\n",
       "      <td>4H</td>\n",
       "    </tr>\n",
       "    <tr>\n",
       "      <th>3</th>\n",
       "      <td>0005432211370</td>\n",
       "      <td>30625</td>\n",
       "      <td>4</td>\n",
       "      <td>5D</td>\n",
       "    </tr>\n",
       "    <tr>\n",
       "      <th>4</th>\n",
       "      <td>0005435212357</td>\n",
       "      <td>30625</td>\n",
       "      <td>5</td>\n",
       "      <td>11A</td>\n",
       "    </tr>\n",
       "  </tbody>\n",
       "</table>\n",
       "</div>"
      ],
      "text/plain": [
       "       ticket_no  flight_id  boarding_no seat_no\n",
       "0  0005435212351      30625            1      2D\n",
       "1  0005435212386      30625            2      3G\n",
       "2  0005435212381      30625            3      4H\n",
       "3  0005432211370      30625            4      5D\n",
       "4  0005435212357      30625            5     11A"
      ]
     },
     "execution_count": 10,
     "metadata": {},
     "output_type": "execute_result"
    }
   ],
   "source": [
    "boarding_passes=pd.read_sql_query(\"select *from boarding_passes\",connection)\n",
    "boarding_passes.head()"
   ]
  },
  {
   "cell_type": "code",
   "execution_count": 11,
   "id": "af3c6a7d-c17b-43b1-92f0-0730c4dd91c0",
   "metadata": {},
   "outputs": [
    {
     "name": "stdout",
     "output_type": "stream",
     "text": [
      "<class 'pandas.core.frame.DataFrame'>\n",
      "RangeIndex: 579686 entries, 0 to 579685\n",
      "Data columns (total 4 columns):\n",
      " #   Column       Non-Null Count   Dtype \n",
      "---  ------       --------------   ----- \n",
      " 0   ticket_no    579686 non-null  object\n",
      " 1   flight_id    579686 non-null  int64 \n",
      " 2   boarding_no  579686 non-null  int64 \n",
      " 3   seat_no      579686 non-null  object\n",
      "dtypes: int64(2), object(2)\n",
      "memory usage: 17.7+ MB\n"
     ]
    }
   ],
   "source": [
    "boarding_passes.info()"
   ]
  },
  {
   "cell_type": "markdown",
   "id": "612d8d57-4160-49d2-8548-9c36f5fbde56",
   "metadata": {},
   "source": [
    "**Show bookings table data**"
   ]
  },
  {
   "cell_type": "code",
   "execution_count": 12,
   "id": "75cabeff-fd3c-4dc5-b3e4-351217c5fc2d",
   "metadata": {},
   "outputs": [
    {
     "data": {
      "text/html": [
       "<div>\n",
       "<style scoped>\n",
       "    .dataframe tbody tr th:only-of-type {\n",
       "        vertical-align: middle;\n",
       "    }\n",
       "\n",
       "    .dataframe tbody tr th {\n",
       "        vertical-align: top;\n",
       "    }\n",
       "\n",
       "    .dataframe thead th {\n",
       "        text-align: right;\n",
       "    }\n",
       "</style>\n",
       "<table border=\"1\" class=\"dataframe\">\n",
       "  <thead>\n",
       "    <tr style=\"text-align: right;\">\n",
       "      <th></th>\n",
       "      <th>book_ref</th>\n",
       "      <th>book_date</th>\n",
       "      <th>total_amount</th>\n",
       "    </tr>\n",
       "  </thead>\n",
       "  <tbody>\n",
       "    <tr>\n",
       "      <th>0</th>\n",
       "      <td>00000F</td>\n",
       "      <td>2017-07-05 03:12:00+03</td>\n",
       "      <td>265700</td>\n",
       "    </tr>\n",
       "    <tr>\n",
       "      <th>1</th>\n",
       "      <td>000012</td>\n",
       "      <td>2017-07-14 09:02:00+03</td>\n",
       "      <td>37900</td>\n",
       "    </tr>\n",
       "    <tr>\n",
       "      <th>2</th>\n",
       "      <td>000068</td>\n",
       "      <td>2017-08-15 14:27:00+03</td>\n",
       "      <td>18100</td>\n",
       "    </tr>\n",
       "    <tr>\n",
       "      <th>3</th>\n",
       "      <td>000181</td>\n",
       "      <td>2017-08-10 13:28:00+03</td>\n",
       "      <td>131800</td>\n",
       "    </tr>\n",
       "    <tr>\n",
       "      <th>4</th>\n",
       "      <td>0002D8</td>\n",
       "      <td>2017-08-07 21:40:00+03</td>\n",
       "      <td>23600</td>\n",
       "    </tr>\n",
       "  </tbody>\n",
       "</table>\n",
       "</div>"
      ],
      "text/plain": [
       "  book_ref               book_date  total_amount\n",
       "0   00000F  2017-07-05 03:12:00+03        265700\n",
       "1   000012  2017-07-14 09:02:00+03         37900\n",
       "2   000068  2017-08-15 14:27:00+03         18100\n",
       "3   000181  2017-08-10 13:28:00+03        131800\n",
       "4   0002D8  2017-08-07 21:40:00+03         23600"
      ]
     },
     "execution_count": 12,
     "metadata": {},
     "output_type": "execute_result"
    }
   ],
   "source": [
    "bookings=pd.read_sql_query(\"select *from bookings\",connection)\n",
    "bookings.head()"
   ]
  },
  {
   "cell_type": "code",
   "execution_count": 13,
   "id": "20409a18-92f9-4048-a3ac-a047273ec716",
   "metadata": {},
   "outputs": [
    {
     "name": "stdout",
     "output_type": "stream",
     "text": [
      "<class 'pandas.core.frame.DataFrame'>\n",
      "RangeIndex: 262788 entries, 0 to 262787\n",
      "Data columns (total 3 columns):\n",
      " #   Column        Non-Null Count   Dtype \n",
      "---  ------        --------------   ----- \n",
      " 0   book_ref      262788 non-null  object\n",
      " 1   book_date     262788 non-null  object\n",
      " 2   total_amount  262788 non-null  int64 \n",
      "dtypes: int64(1), object(2)\n",
      "memory usage: 6.0+ MB\n"
     ]
    }
   ],
   "source": [
    "bookings.info()"
   ]
  },
  {
   "cell_type": "markdown",
   "id": "d36427ab-1938-4ff7-a5f4-d81e3b9b1b9a",
   "metadata": {},
   "source": [
    "**Show flights table data**"
   ]
  },
  {
   "cell_type": "code",
   "execution_count": 14,
   "id": "8bdf04ab-e403-4560-a4c0-975fa3d8f654",
   "metadata": {},
   "outputs": [
    {
     "data": {
      "text/html": [
       "<div>\n",
       "<style scoped>\n",
       "    .dataframe tbody tr th:only-of-type {\n",
       "        vertical-align: middle;\n",
       "    }\n",
       "\n",
       "    .dataframe tbody tr th {\n",
       "        vertical-align: top;\n",
       "    }\n",
       "\n",
       "    .dataframe thead th {\n",
       "        text-align: right;\n",
       "    }\n",
       "</style>\n",
       "<table border=\"1\" class=\"dataframe\">\n",
       "  <thead>\n",
       "    <tr style=\"text-align: right;\">\n",
       "      <th></th>\n",
       "      <th>flight_id</th>\n",
       "      <th>flight_no</th>\n",
       "      <th>scheduled_departure</th>\n",
       "      <th>scheduled_arrival</th>\n",
       "      <th>departure_airport</th>\n",
       "      <th>arrival_airport</th>\n",
       "      <th>status</th>\n",
       "      <th>aircraft_code</th>\n",
       "      <th>actual_departure</th>\n",
       "      <th>actual_arrival</th>\n",
       "    </tr>\n",
       "  </thead>\n",
       "  <tbody>\n",
       "    <tr>\n",
       "      <th>0</th>\n",
       "      <td>1185</td>\n",
       "      <td>PG0134</td>\n",
       "      <td>2017-09-10 09:50:00+03</td>\n",
       "      <td>2017-09-10 14:55:00+03</td>\n",
       "      <td>DME</td>\n",
       "      <td>BTK</td>\n",
       "      <td>Scheduled</td>\n",
       "      <td>319</td>\n",
       "      <td>\\N</td>\n",
       "      <td>\\N</td>\n",
       "    </tr>\n",
       "    <tr>\n",
       "      <th>1</th>\n",
       "      <td>3979</td>\n",
       "      <td>PG0052</td>\n",
       "      <td>2017-08-25 14:50:00+03</td>\n",
       "      <td>2017-08-25 17:35:00+03</td>\n",
       "      <td>VKO</td>\n",
       "      <td>HMA</td>\n",
       "      <td>Scheduled</td>\n",
       "      <td>CR2</td>\n",
       "      <td>\\N</td>\n",
       "      <td>\\N</td>\n",
       "    </tr>\n",
       "    <tr>\n",
       "      <th>2</th>\n",
       "      <td>4739</td>\n",
       "      <td>PG0561</td>\n",
       "      <td>2017-09-05 12:30:00+03</td>\n",
       "      <td>2017-09-05 14:15:00+03</td>\n",
       "      <td>VKO</td>\n",
       "      <td>AER</td>\n",
       "      <td>Scheduled</td>\n",
       "      <td>763</td>\n",
       "      <td>\\N</td>\n",
       "      <td>\\N</td>\n",
       "    </tr>\n",
       "    <tr>\n",
       "      <th>3</th>\n",
       "      <td>5502</td>\n",
       "      <td>PG0529</td>\n",
       "      <td>2017-09-12 09:50:00+03</td>\n",
       "      <td>2017-09-12 11:20:00+03</td>\n",
       "      <td>SVO</td>\n",
       "      <td>UFA</td>\n",
       "      <td>Scheduled</td>\n",
       "      <td>763</td>\n",
       "      <td>\\N</td>\n",
       "      <td>\\N</td>\n",
       "    </tr>\n",
       "    <tr>\n",
       "      <th>4</th>\n",
       "      <td>6938</td>\n",
       "      <td>PG0461</td>\n",
       "      <td>2017-09-04 12:25:00+03</td>\n",
       "      <td>2017-09-04 13:20:00+03</td>\n",
       "      <td>SVO</td>\n",
       "      <td>ULV</td>\n",
       "      <td>Scheduled</td>\n",
       "      <td>SU9</td>\n",
       "      <td>\\N</td>\n",
       "      <td>\\N</td>\n",
       "    </tr>\n",
       "  </tbody>\n",
       "</table>\n",
       "</div>"
      ],
      "text/plain": [
       "   flight_id flight_no     scheduled_departure       scheduled_arrival  \\\n",
       "0       1185    PG0134  2017-09-10 09:50:00+03  2017-09-10 14:55:00+03   \n",
       "1       3979    PG0052  2017-08-25 14:50:00+03  2017-08-25 17:35:00+03   \n",
       "2       4739    PG0561  2017-09-05 12:30:00+03  2017-09-05 14:15:00+03   \n",
       "3       5502    PG0529  2017-09-12 09:50:00+03  2017-09-12 11:20:00+03   \n",
       "4       6938    PG0461  2017-09-04 12:25:00+03  2017-09-04 13:20:00+03   \n",
       "\n",
       "  departure_airport arrival_airport     status aircraft_code actual_departure  \\\n",
       "0               DME             BTK  Scheduled           319               \\N   \n",
       "1               VKO             HMA  Scheduled           CR2               \\N   \n",
       "2               VKO             AER  Scheduled           763               \\N   \n",
       "3               SVO             UFA  Scheduled           763               \\N   \n",
       "4               SVO             ULV  Scheduled           SU9               \\N   \n",
       "\n",
       "  actual_arrival  \n",
       "0             \\N  \n",
       "1             \\N  \n",
       "2             \\N  \n",
       "3             \\N  \n",
       "4             \\N  "
      ]
     },
     "execution_count": 14,
     "metadata": {},
     "output_type": "execute_result"
    }
   ],
   "source": [
    "flights=pd.read_sql_query(\"select *from flights\",connection)\n",
    "flights.head()"
   ]
  },
  {
   "cell_type": "code",
   "execution_count": 15,
   "id": "5c1eed7a-c158-404c-b34b-ceea498ae442",
   "metadata": {},
   "outputs": [
    {
     "name": "stdout",
     "output_type": "stream",
     "text": [
      "<class 'pandas.core.frame.DataFrame'>\n",
      "RangeIndex: 33121 entries, 0 to 33120\n",
      "Data columns (total 10 columns):\n",
      " #   Column               Non-Null Count  Dtype \n",
      "---  ------               --------------  ----- \n",
      " 0   flight_id            33121 non-null  int64 \n",
      " 1   flight_no            33121 non-null  object\n",
      " 2   scheduled_departure  33121 non-null  object\n",
      " 3   scheduled_arrival    33121 non-null  object\n",
      " 4   departure_airport    33121 non-null  object\n",
      " 5   arrival_airport      33121 non-null  object\n",
      " 6   status               33121 non-null  object\n",
      " 7   aircraft_code        33121 non-null  object\n",
      " 8   actual_departure     33121 non-null  object\n",
      " 9   actual_arrival       33121 non-null  object\n",
      "dtypes: int64(1), object(9)\n",
      "memory usage: 2.5+ MB\n"
     ]
    }
   ],
   "source": [
    "flights.info()"
   ]
  },
  {
   "cell_type": "markdown",
   "id": "f7b654c1-c43e-4db6-b43e-797ca008c33f",
   "metadata": {},
   "source": [
    "**Show seats table data**"
   ]
  },
  {
   "cell_type": "code",
   "execution_count": 16,
   "id": "8b918e4d-9d33-4d1d-87f2-367f1edd22cf",
   "metadata": {},
   "outputs": [
    {
     "data": {
      "text/html": [
       "<div>\n",
       "<style scoped>\n",
       "    .dataframe tbody tr th:only-of-type {\n",
       "        vertical-align: middle;\n",
       "    }\n",
       "\n",
       "    .dataframe tbody tr th {\n",
       "        vertical-align: top;\n",
       "    }\n",
       "\n",
       "    .dataframe thead th {\n",
       "        text-align: right;\n",
       "    }\n",
       "</style>\n",
       "<table border=\"1\" class=\"dataframe\">\n",
       "  <thead>\n",
       "    <tr style=\"text-align: right;\">\n",
       "      <th></th>\n",
       "      <th>aircraft_code</th>\n",
       "      <th>seat_no</th>\n",
       "      <th>fare_conditions</th>\n",
       "    </tr>\n",
       "  </thead>\n",
       "  <tbody>\n",
       "    <tr>\n",
       "      <th>0</th>\n",
       "      <td>319</td>\n",
       "      <td>2A</td>\n",
       "      <td>Business</td>\n",
       "    </tr>\n",
       "    <tr>\n",
       "      <th>1</th>\n",
       "      <td>319</td>\n",
       "      <td>2C</td>\n",
       "      <td>Business</td>\n",
       "    </tr>\n",
       "    <tr>\n",
       "      <th>2</th>\n",
       "      <td>319</td>\n",
       "      <td>2D</td>\n",
       "      <td>Business</td>\n",
       "    </tr>\n",
       "    <tr>\n",
       "      <th>3</th>\n",
       "      <td>319</td>\n",
       "      <td>2F</td>\n",
       "      <td>Business</td>\n",
       "    </tr>\n",
       "    <tr>\n",
       "      <th>4</th>\n",
       "      <td>319</td>\n",
       "      <td>3A</td>\n",
       "      <td>Business</td>\n",
       "    </tr>\n",
       "  </tbody>\n",
       "</table>\n",
       "</div>"
      ],
      "text/plain": [
       "  aircraft_code seat_no fare_conditions\n",
       "0           319      2A        Business\n",
       "1           319      2C        Business\n",
       "2           319      2D        Business\n",
       "3           319      2F        Business\n",
       "4           319      3A        Business"
      ]
     },
     "execution_count": 16,
     "metadata": {},
     "output_type": "execute_result"
    }
   ],
   "source": [
    "seats=pd.read_sql_query(\"select *from seats\",connection)\n",
    "seats.head()"
   ]
  },
  {
   "cell_type": "code",
   "execution_count": 17,
   "id": "280f7e07-521f-48b0-9142-c1b160613142",
   "metadata": {},
   "outputs": [
    {
     "name": "stdout",
     "output_type": "stream",
     "text": [
      "<class 'pandas.core.frame.DataFrame'>\n",
      "RangeIndex: 1339 entries, 0 to 1338\n",
      "Data columns (total 3 columns):\n",
      " #   Column           Non-Null Count  Dtype \n",
      "---  ------           --------------  ----- \n",
      " 0   aircraft_code    1339 non-null   object\n",
      " 1   seat_no          1339 non-null   object\n",
      " 2   fare_conditions  1339 non-null   object\n",
      "dtypes: object(3)\n",
      "memory usage: 31.5+ KB\n"
     ]
    }
   ],
   "source": [
    "seats.info()"
   ]
  },
  {
   "cell_type": "markdown",
   "id": "b1aca3d1-b5a4-4e1d-a8c6-3ef1dcc00dd5",
   "metadata": {},
   "source": [
    "**Show ticket_flights table data**"
   ]
  },
  {
   "cell_type": "code",
   "execution_count": 18,
   "id": "c07c2290-c863-414b-b34f-c2213e81ba8d",
   "metadata": {},
   "outputs": [
    {
     "data": {
      "text/html": [
       "<div>\n",
       "<style scoped>\n",
       "    .dataframe tbody tr th:only-of-type {\n",
       "        vertical-align: middle;\n",
       "    }\n",
       "\n",
       "    .dataframe tbody tr th {\n",
       "        vertical-align: top;\n",
       "    }\n",
       "\n",
       "    .dataframe thead th {\n",
       "        text-align: right;\n",
       "    }\n",
       "</style>\n",
       "<table border=\"1\" class=\"dataframe\">\n",
       "  <thead>\n",
       "    <tr style=\"text-align: right;\">\n",
       "      <th></th>\n",
       "      <th>ticket_no</th>\n",
       "      <th>flight_id</th>\n",
       "      <th>fare_conditions</th>\n",
       "      <th>amount</th>\n",
       "    </tr>\n",
       "  </thead>\n",
       "  <tbody>\n",
       "    <tr>\n",
       "      <th>0</th>\n",
       "      <td>0005432159776</td>\n",
       "      <td>30625</td>\n",
       "      <td>Business</td>\n",
       "      <td>42100</td>\n",
       "    </tr>\n",
       "    <tr>\n",
       "      <th>1</th>\n",
       "      <td>0005435212351</td>\n",
       "      <td>30625</td>\n",
       "      <td>Business</td>\n",
       "      <td>42100</td>\n",
       "    </tr>\n",
       "    <tr>\n",
       "      <th>2</th>\n",
       "      <td>0005435212386</td>\n",
       "      <td>30625</td>\n",
       "      <td>Business</td>\n",
       "      <td>42100</td>\n",
       "    </tr>\n",
       "    <tr>\n",
       "      <th>3</th>\n",
       "      <td>0005435212381</td>\n",
       "      <td>30625</td>\n",
       "      <td>Business</td>\n",
       "      <td>42100</td>\n",
       "    </tr>\n",
       "    <tr>\n",
       "      <th>4</th>\n",
       "      <td>0005432211370</td>\n",
       "      <td>30625</td>\n",
       "      <td>Business</td>\n",
       "      <td>42100</td>\n",
       "    </tr>\n",
       "  </tbody>\n",
       "</table>\n",
       "</div>"
      ],
      "text/plain": [
       "       ticket_no  flight_id fare_conditions  amount\n",
       "0  0005432159776      30625        Business   42100\n",
       "1  0005435212351      30625        Business   42100\n",
       "2  0005435212386      30625        Business   42100\n",
       "3  0005435212381      30625        Business   42100\n",
       "4  0005432211370      30625        Business   42100"
      ]
     },
     "execution_count": 18,
     "metadata": {},
     "output_type": "execute_result"
    }
   ],
   "source": [
    "ticket_flights=pd.read_sql_query(\"select *from ticket_flights\",connection)\n",
    "ticket_flights.head()"
   ]
  },
  {
   "cell_type": "code",
   "execution_count": 19,
   "id": "b2f8393a-165b-4f1c-92bb-27f927ab9391",
   "metadata": {},
   "outputs": [
    {
     "name": "stdout",
     "output_type": "stream",
     "text": [
      "<class 'pandas.core.frame.DataFrame'>\n",
      "RangeIndex: 1045726 entries, 0 to 1045725\n",
      "Data columns (total 4 columns):\n",
      " #   Column           Non-Null Count    Dtype \n",
      "---  ------           --------------    ----- \n",
      " 0   ticket_no        1045726 non-null  object\n",
      " 1   flight_id        1045726 non-null  int64 \n",
      " 2   fare_conditions  1045726 non-null  object\n",
      " 3   amount           1045726 non-null  int64 \n",
      "dtypes: int64(2), object(2)\n",
      "memory usage: 31.9+ MB\n"
     ]
    }
   ],
   "source": [
    "ticket_flights.info()"
   ]
  },
  {
   "cell_type": "markdown",
   "id": "5c4e164d-cd3c-461b-a6bc-eaf4a5e6ce60",
   "metadata": {},
   "source": [
    "**Show tickets table data**"
   ]
  },
  {
   "cell_type": "code",
   "execution_count": 20,
   "id": "7914eb1b-5cf8-4877-9c1c-e0f81c5b4b5e",
   "metadata": {},
   "outputs": [
    {
     "data": {
      "text/html": [
       "<div>\n",
       "<style scoped>\n",
       "    .dataframe tbody tr th:only-of-type {\n",
       "        vertical-align: middle;\n",
       "    }\n",
       "\n",
       "    .dataframe tbody tr th {\n",
       "        vertical-align: top;\n",
       "    }\n",
       "\n",
       "    .dataframe thead th {\n",
       "        text-align: right;\n",
       "    }\n",
       "</style>\n",
       "<table border=\"1\" class=\"dataframe\">\n",
       "  <thead>\n",
       "    <tr style=\"text-align: right;\">\n",
       "      <th></th>\n",
       "      <th>ticket_no</th>\n",
       "      <th>book_ref</th>\n",
       "      <th>passenger_id</th>\n",
       "    </tr>\n",
       "  </thead>\n",
       "  <tbody>\n",
       "    <tr>\n",
       "      <th>0</th>\n",
       "      <td>0005432000987</td>\n",
       "      <td>06B046</td>\n",
       "      <td>8149 604011</td>\n",
       "    </tr>\n",
       "    <tr>\n",
       "      <th>1</th>\n",
       "      <td>0005432000988</td>\n",
       "      <td>06B046</td>\n",
       "      <td>8499 420203</td>\n",
       "    </tr>\n",
       "    <tr>\n",
       "      <th>2</th>\n",
       "      <td>0005432000989</td>\n",
       "      <td>E170C3</td>\n",
       "      <td>1011 752484</td>\n",
       "    </tr>\n",
       "    <tr>\n",
       "      <th>3</th>\n",
       "      <td>0005432000990</td>\n",
       "      <td>E170C3</td>\n",
       "      <td>4849 400049</td>\n",
       "    </tr>\n",
       "    <tr>\n",
       "      <th>4</th>\n",
       "      <td>0005432000991</td>\n",
       "      <td>F313DD</td>\n",
       "      <td>6615 976589</td>\n",
       "    </tr>\n",
       "  </tbody>\n",
       "</table>\n",
       "</div>"
      ],
      "text/plain": [
       "       ticket_no book_ref passenger_id\n",
       "0  0005432000987   06B046  8149 604011\n",
       "1  0005432000988   06B046  8499 420203\n",
       "2  0005432000989   E170C3  1011 752484\n",
       "3  0005432000990   E170C3  4849 400049\n",
       "4  0005432000991   F313DD  6615 976589"
      ]
     },
     "execution_count": 20,
     "metadata": {},
     "output_type": "execute_result"
    }
   ],
   "source": [
    "tickets=pd.read_sql_query(\"select *from tickets\",connection)\n",
    "tickets.head()"
   ]
  },
  {
   "cell_type": "code",
   "execution_count": 21,
   "id": "806d7031-7def-474f-9a94-744bd48d8fc9",
   "metadata": {},
   "outputs": [
    {
     "name": "stdout",
     "output_type": "stream",
     "text": [
      "<class 'pandas.core.frame.DataFrame'>\n",
      "RangeIndex: 366733 entries, 0 to 366732\n",
      "Data columns (total 3 columns):\n",
      " #   Column        Non-Null Count   Dtype \n",
      "---  ------        --------------   ----- \n",
      " 0   ticket_no     366733 non-null  object\n",
      " 1   book_ref      366733 non-null  object\n",
      " 2   passenger_id  366733 non-null  object\n",
      "dtypes: object(3)\n",
      "memory usage: 8.4+ MB\n"
     ]
    }
   ],
   "source": [
    "tickets.info()"
   ]
  },
  {
   "cell_type": "markdown",
   "id": "39beb91c-a1ba-42fe-8bac-db15d386d054",
   "metadata": {},
   "source": [
    "#### Display the info of all table columns."
   ]
  },
  {
   "cell_type": "code",
   "execution_count": 22,
   "id": "a4ed2f01-1794-420f-b513-4a86065f5d8a",
   "metadata": {},
   "outputs": [
    {
     "data": {
      "text/plain": [
       "['aircrafts_data',\n",
       " 'airports_data',\n",
       " 'boarding_passes',\n",
       " 'bookings',\n",
       " 'flights',\n",
       " 'seats',\n",
       " 'ticket_flights',\n",
       " 'tickets']"
      ]
     },
     "execution_count": 22,
     "metadata": {},
     "output_type": "execute_result"
    }
   ],
   "source": [
    "cursor=connection.cursor()\n",
    "cursor.execute(\"select *from sqlite_master where type='table';\")\n",
    "table_list=[table[1] for table in cursor.fetchall()]\n",
    "table_list"
   ]
  },
  {
   "cell_type": "markdown",
   "id": "6015b86f-b72c-4181-953f-83670b5d0f17",
   "metadata": {},
   "source": [
    "**The PRAGMA table_info query returns the following information for each column:**\n",
    ">- column[0]: Column ID (index)\n",
    ">- column[1]: Column name\n",
    ">- column[2]: Data type\n",
    ">- column[3]: Not NULL flag\n",
    ">- column[4]: Default value\n",
    ">- column[5]: Primary key flag"
   ]
  },
  {
   "cell_type": "code",
   "execution_count": 23,
   "id": "f04d2988-3efe-4e29-bf7a-d48a21589f8d",
   "metadata": {},
   "outputs": [
    {
     "name": "stdout",
     "output_type": "stream",
     "text": [
      "\n",
      " Table aircrafts_data\n",
      "('aircraft_code', 'character(3)', 1, None, 0)\n",
      "('model', 'jsonb', 1, None, 0)\n",
      "('range', 'INTEGER', 1, None, 0)\n",
      "\n",
      " Table airports_data\n",
      "('airport_code', 'character(3)', 1, None, 0)\n",
      "('airport_name', 'jsonb', 1, None, 0)\n",
      "('city', 'jsonb', 1, None, 0)\n",
      "('coordinates', 'point', 1, None, 0)\n",
      "('timezone', 'TEXT', 1, None, 0)\n",
      "\n",
      " Table boarding_passes\n",
      "('ticket_no', 'character(13)', 1, None, 0)\n",
      "('flight_id', 'INTEGER', 1, None, 0)\n",
      "('boarding_no', 'INTEGER', 1, None, 0)\n",
      "('seat_no', 'character varying(4)', 1, None, 0)\n",
      "\n",
      " Table bookings\n",
      "('book_ref', 'character(6)', 1, None, 0)\n",
      "('book_date', 'timestamp with time zone', 1, None, 0)\n",
      "('total_amount', 'numeric(10,2)', 1, None, 0)\n",
      "\n",
      " Table flights\n",
      "('flight_id', 'INTEGER', 1, None, 0)\n",
      "('flight_no', 'character(6)', 1, None, 0)\n",
      "('scheduled_departure', 'timestamp with time zone', 1, None, 0)\n",
      "('scheduled_arrival', 'timestamp with time zone', 1, None, 0)\n",
      "('departure_airport', 'character(3)', 1, None, 0)\n",
      "('arrival_airport', 'character(3)', 1, None, 0)\n",
      "('status', 'character varying(20)', 1, None, 0)\n",
      "('aircraft_code', 'character(3)', 1, None, 0)\n",
      "('actual_departure', 'timestamp with time zone', 0, None, 0)\n",
      "('actual_arrival', 'timestamp with time zone', 0, None, 0)\n",
      "\n",
      " Table seats\n",
      "('aircraft_code', 'character(3)', 1, None, 0)\n",
      "('seat_no', 'character varying(4)', 1, None, 0)\n",
      "('fare_conditions', 'character varying(10)', 1, None, 0)\n",
      "\n",
      " Table ticket_flights\n",
      "('ticket_no', 'character(13)', 1, None, 0)\n",
      "('flight_id', 'INTEGER', 1, None, 0)\n",
      "('fare_conditions', 'character varying(10)', 1, None, 0)\n",
      "('amount', 'numeric(10,2)', 1, None, 0)\n",
      "\n",
      " Table tickets\n",
      "('ticket_no', 'character(13)', 1, None, 0)\n",
      "('book_ref', 'character(6)', 1, None, 0)\n",
      "('passenger_id', 'character varying(20)', 1, None, 0)\n"
     ]
    }
   ],
   "source": [
    "for table in table_list:\n",
    "    print(\"\\n Table\",table)\n",
    "    column_info=connection.execute(\"PRAGMA table_info({})\".format(table))\n",
    "    for column in column_info.fetchall():\n",
    "        print(column[1:10])"
   ]
  },
  {
   "cell_type": "markdown",
   "id": "95e9e64a-4112-4a55-aacb-7179532feca1",
   "metadata": {},
   "source": [
    "### Check Missing Value for every table "
   ]
  },
  {
   "cell_type": "code",
   "execution_count": 24,
   "id": "9b3d2de9-37de-49d6-9df6-a5a12f27add4",
   "metadata": {},
   "outputs": [
    {
     "name": "stdout",
     "output_type": "stream",
     "text": [
      "\n",
      " Table: aircrafts_data\n",
      "aircraft_code    0\n",
      "model            0\n",
      "range            0\n",
      "dtype: int64\n",
      "\n",
      " Table: airports_data\n",
      "airport_code    0\n",
      "airport_name    0\n",
      "city            0\n",
      "coordinates     0\n",
      "timezone        0\n",
      "dtype: int64\n",
      "\n",
      " Table: boarding_passes\n",
      "ticket_no      0\n",
      "flight_id      0\n",
      "boarding_no    0\n",
      "seat_no        0\n",
      "dtype: int64\n",
      "\n",
      " Table: bookings\n",
      "book_ref        0\n",
      "book_date       0\n",
      "total_amount    0\n",
      "dtype: int64\n",
      "\n",
      " Table: flights\n",
      "flight_id              0\n",
      "flight_no              0\n",
      "scheduled_departure    0\n",
      "scheduled_arrival      0\n",
      "departure_airport      0\n",
      "arrival_airport        0\n",
      "status                 0\n",
      "aircraft_code          0\n",
      "actual_departure       0\n",
      "actual_arrival         0\n",
      "dtype: int64\n",
      "\n",
      " Table: seats\n",
      "aircraft_code      0\n",
      "seat_no            0\n",
      "fare_conditions    0\n",
      "dtype: int64\n",
      "\n",
      " Table: ticket_flights\n",
      "ticket_no          0\n",
      "flight_id          0\n",
      "fare_conditions    0\n",
      "amount             0\n",
      "dtype: int64\n",
      "\n",
      " Table: tickets\n",
      "ticket_no       0\n",
      "book_ref        0\n",
      "passenger_id    0\n",
      "dtype: int64\n"
     ]
    }
   ],
   "source": [
    "for table in table_list:\n",
    "    print('\\n Table:',table)\n",
    "    df_table=pd.read_sql_query(f\"select *from {table}\",connection)\n",
    "    #print(df_table)\n",
    "    print(df_table.isnull().sum())\n",
    "    "
   ]
  },
  {
   "cell_type": "markdown",
   "id": "1e90b7ce-ef25-4f22-a13d-63adcfa9a666",
   "metadata": {},
   "source": [
    "### **Basic Analysis**"
   ]
  },
  {
   "cell_type": "markdown",
   "id": "32a68932-5146-481e-8132-a51c7da1eca6",
   "metadata": {},
   "source": [
    "**How many planes have more than 100 seats?**"
   ]
  },
  {
   "cell_type": "code",
   "execution_count": 25,
   "id": "2bd3a0a9-5b87-4c91-a95c-ac097e91629e",
   "metadata": {},
   "outputs": [
    {
     "data": {
      "text/html": [
       "<div>\n",
       "<style scoped>\n",
       "    .dataframe tbody tr th:only-of-type {\n",
       "        vertical-align: middle;\n",
       "    }\n",
       "\n",
       "    .dataframe tbody tr th {\n",
       "        vertical-align: top;\n",
       "    }\n",
       "\n",
       "    .dataframe thead th {\n",
       "        text-align: right;\n",
       "    }\n",
       "</style>\n",
       "<table border=\"1\" class=\"dataframe\">\n",
       "  <thead>\n",
       "    <tr style=\"text-align: right;\">\n",
       "      <th></th>\n",
       "      <th>aircraft_code</th>\n",
       "      <th>number_seats</th>\n",
       "    </tr>\n",
       "  </thead>\n",
       "  <tbody>\n",
       "    <tr>\n",
       "      <th>0</th>\n",
       "      <td>319</td>\n",
       "      <td>116</td>\n",
       "    </tr>\n",
       "    <tr>\n",
       "      <th>1</th>\n",
       "      <td>320</td>\n",
       "      <td>140</td>\n",
       "    </tr>\n",
       "    <tr>\n",
       "      <th>2</th>\n",
       "      <td>321</td>\n",
       "      <td>170</td>\n",
       "    </tr>\n",
       "    <tr>\n",
       "      <th>3</th>\n",
       "      <td>733</td>\n",
       "      <td>130</td>\n",
       "    </tr>\n",
       "    <tr>\n",
       "      <th>4</th>\n",
       "      <td>763</td>\n",
       "      <td>222</td>\n",
       "    </tr>\n",
       "    <tr>\n",
       "      <th>5</th>\n",
       "      <td>773</td>\n",
       "      <td>402</td>\n",
       "    </tr>\n",
       "  </tbody>\n",
       "</table>\n",
       "</div>"
      ],
      "text/plain": [
       "  aircraft_code  number_seats\n",
       "0           319           116\n",
       "1           320           140\n",
       "2           321           170\n",
       "3           733           130\n",
       "4           763           222\n",
       "5           773           402"
      ]
     },
     "execution_count": 25,
     "metadata": {},
     "output_type": "execute_result"
    }
   ],
   "source": [
    "number_seats=pd.read_sql_query(''' select aircraft_code,count(*) as number_seats from\n",
    " seats group by aircraft_code having number_seats>100''',connection)\n",
    "number_seats"
   ]
  },
  {
   "cell_type": "code",
   "execution_count": 26,
   "id": "bb63a647-0610-4d11-849f-7f38cb71917e",
   "metadata": {},
   "outputs": [
    {
     "data": {
      "image/png": "[encoded data removed]",
      "text/plain": [
       "<Figure size 1800x600 with 1 Axes>"
      ]
     },
     "metadata": {},
     "output_type": "display_data"
    }
   ],
   "source": [
    "number_seats=pd.read_sql_query(''' select aircraft_code,count(*) as number_seats from\n",
    " seats group by aircraft_code having number_seats>100''',connection)\n",
    "number_seats\n",
    "plt.figure(figsize=(18,6))\n",
    "plt.bar(number_seats['aircraft_code'],number_seats['number_seats'],color='g',edgecolor='black',linewidth=2.5)\n",
    "plt.title(\"Aircraft with Over 100 Seats\",fontsize=20)\n",
    "plt.xlabel(\"Aircraft Code\",fontsize=20)\n",
    "plt.ylabel(\"Number of seats\",fontsize=20)\n",
    "plt.xticks(fontsize=14)\n",
    "plt.yticks(fontsize=14)\n",
    "plt.show()"
   ]
  },
  {
   "cell_type": "markdown",
   "id": "512f8645-48d9-4594-9aee-d04e9029ce80",
   "metadata": {
    "jp-MarkdownHeadingCollapsed": true
   },
   "source": [
    "**How the number of tickets booking and total amount earned changed with the time.**"
   ]
  },
  {
   "cell_type": "code",
   "execution_count": 27,
   "id": "cf5d9db0-18e9-4f0f-b688-19375d9abda4",
   "metadata": {},
   "outputs": [
    {
     "name": "stdout",
     "output_type": "stream",
     "text": [
      "aircrafts_data\n",
      "\n",
      "  aircraft_code                                              model  range\n",
      "0           773    {\"en\": \"Boeing 777-300\", \"ru\": \"Боинг 777-300\"}  11100\n",
      "1           763    {\"en\": \"Boeing 767-300\", \"ru\": \"Боинг 767-300\"}   7900\n",
      "2           SU9  {\"en\": \"Sukhoi Superjet-100\", \"ru\": \"Сухой Суп...   3000\n",
      "3           320  {\"en\": \"Airbus A320-200\", \"ru\": \"Аэробус A320-...   5700\n",
      "4           321  {\"en\": \"Airbus A321-200\", \"ru\": \"Аэробус A321-...   5600\n",
      "5           319  {\"en\": \"Airbus A319-100\", \"ru\": \"Аэробус A319-...   6700\n",
      "6           733    {\"en\": \"Boeing 737-300\", \"ru\": \"Боинг 737-300\"}   4200\n",
      "7           CN1  {\"en\": \"Cessna 208 Caravan\", \"ru\": \"Сессна 208...   1200\n",
      "8           CR2  {\"en\": \"Bombardier CRJ-200\", \"ru\": \"Бомбардье ...   2700\n",
      "airports_data\n",
      "\n",
      "    airport_code                                       airport_name  \\\n",
      "0            YKS          {\"en\": \"Yakutsk Airport\", \"ru\": \"Якутск\"}   \n",
      "1            MJZ            {\"en\": \"Mirny Airport\", \"ru\": \"Мирный\"}   \n",
      "2            KHV  {\"en\": \"Khabarovsk-Novy Airport\", \"ru\": \"Хабар...   \n",
      "3            PKC        {\"en\": \"Yelizovo Airport\", \"ru\": \"Елизово\"}   \n",
      "4            UUS  {\"en\": \"Yuzhno-Sakhalinsk Airport\", \"ru\": \"Хом...   \n",
      "..           ...                                                ...   \n",
      "99           MMK       {\"en\": \"Murmansk Airport\", \"ru\": \"Мурманск\"}   \n",
      "100          ABA           {\"en\": \"Abakan Airport\", \"ru\": \"Абакан\"}   \n",
      "101          BAX         {\"en\": \"Barnaul Airport\", \"ru\": \"Барнаул\"}   \n",
      "102          AAQ  {\"en\": \"Anapa Vityazevo Airport\", \"ru\": \"Витяз...   \n",
      "103          CNN         {\"en\": \"Chulman Airport\", \"ru\": \"Чульман\"}   \n",
      "\n",
      "                                                  city  \\\n",
      "0                    {\"en\": \"Yakutsk\", \"ru\": \"Якутск\"}   \n",
      "1                     {\"en\": \"Mirnyj\", \"ru\": \"Мирный\"}   \n",
      "2              {\"en\": \"Khabarovsk\", \"ru\": \"Хабаровск\"}   \n",
      "3    {\"en\": \"Petropavlovsk\", \"ru\": \"Петропавловск-К...   \n",
      "4    {\"en\": \"Yuzhno-Sakhalinsk\", \"ru\": \"Южно-Сахали...   \n",
      "..                                                 ...   \n",
      "99                {\"en\": \"Murmansk\", \"ru\": \"Мурманск\"}   \n",
      "100                   {\"en\": \"Abakan\", \"ru\": \"Абакан\"}   \n",
      "101                 {\"en\": \"Barnaul\", \"ru\": \"Барнаул\"}   \n",
      "102                     {\"en\": \"Anapa\", \"ru\": \"Анапа\"}   \n",
      "103              {\"en\": \"Neryungri\", \"ru\": \"Нерюнгри\"}   \n",
      "\n",
      "                                   coordinates          timezone  \n",
      "0        (129.77099609375,62.0932998657226562)      Asia/Yakutsk  \n",
      "1      (114.03900146484375,62.534698486328125)      Asia/Yakutsk  \n",
      "2        (135.18800354004,48.5279998779300001)  Asia/Vladivostok  \n",
      "3    (158.453994750976562,53.1679000854492188)    Asia/Kamchatka  \n",
      "4    (142.718002319335938,46.8886985778808594)     Asia/Sakhalin  \n",
      "..                                         ...               ...  \n",
      "99   (32.7508010864257812,68.7817001342773438)     Europe/Moscow  \n",
      "100  (91.3850021362304688,53.7400016784667969)  Asia/Krasnoyarsk  \n",
      "101   (83.5384979248046875,53.363800048828125)  Asia/Krasnoyarsk  \n",
      "102   (37.3473014831539984,45.002101898192997)     Europe/Moscow  \n",
      "103  (124.914001464839998,56.9138984680179973)      Asia/Yakutsk  \n",
      "\n",
      "[104 rows x 5 columns]\n",
      "boarding_passes\n",
      "\n",
      "            ticket_no  flight_id  boarding_no seat_no\n",
      "0       0005435212351      30625            1      2D\n",
      "1       0005435212386      30625            2      3G\n",
      "2       0005435212381      30625            3      4H\n",
      "3       0005432211370      30625            4      5D\n",
      "4       0005435212357      30625            5     11A\n",
      "...               ...        ...          ...     ...\n",
      "579681  0005434302871      19945           85     20F\n",
      "579682  0005432892791      19945           86     21C\n",
      "579683  0005434302869      19945           87     20E\n",
      "579684  0005432802476      19945           88     21F\n",
      "579685  0005432802482      19945           89     21E\n",
      "\n",
      "[579686 rows x 4 columns]\n",
      "bookings\n",
      "\n",
      "       book_ref               book_date  total_amount\n",
      "0        00000F  2017-07-05 03:12:00+03        265700\n",
      "1        000012  2017-07-14 09:02:00+03         37900\n",
      "2        000068  2017-08-15 14:27:00+03         18100\n",
      "3        000181  2017-08-10 13:28:00+03        131800\n",
      "4        0002D8  2017-08-07 21:40:00+03         23600\n",
      "...         ...                     ...           ...\n",
      "262783   FFFEF3  2017-07-17 07:23:00+03         56000\n",
      "262784   FFFF2C  2017-08-08 05:55:00+03         10800\n",
      "262785   FFFF43  2017-07-20 20:42:00+03         78500\n",
      "262786   FFFFA8  2017-08-08 04:45:00+03         28800\n",
      "262787   FFFFF7  2017-07-01 22:12:00+03         73600\n",
      "\n",
      "[262788 rows x 3 columns]\n",
      "flights\n",
      "\n",
      "       flight_id flight_no     scheduled_departure       scheduled_arrival  \\\n",
      "0           1185    PG0134  2017-09-10 09:50:00+03  2017-09-10 14:55:00+03   \n",
      "1           3979    PG0052  2017-08-25 14:50:00+03  2017-08-25 17:35:00+03   \n",
      "2           4739    PG0561  2017-09-05 12:30:00+03  2017-09-05 14:15:00+03   \n",
      "3           5502    PG0529  2017-09-12 09:50:00+03  2017-09-12 11:20:00+03   \n",
      "4           6938    PG0461  2017-09-04 12:25:00+03  2017-09-04 13:20:00+03   \n",
      "...          ...       ...                     ...                     ...   \n",
      "33116      33117    PG0063  2017-08-02 19:25:00+03  2017-08-02 20:10:00+03   \n",
      "33117      33118    PG0063  2017-07-28 19:25:00+03  2017-07-28 20:10:00+03   \n",
      "33118      33119    PG0063  2017-09-08 19:25:00+03  2017-09-08 20:10:00+03   \n",
      "33119      33120    PG0063  2017-08-01 19:25:00+03  2017-08-01 20:10:00+03   \n",
      "33120      33121    PG0063  2017-08-26 19:25:00+03  2017-08-26 20:10:00+03   \n",
      "\n",
      "      departure_airport arrival_airport     status aircraft_code  \\\n",
      "0                   DME             BTK  Scheduled           319   \n",
      "1                   VKO             HMA  Scheduled           CR2   \n",
      "2                   VKO             AER  Scheduled           763   \n",
      "3                   SVO             UFA  Scheduled           763   \n",
      "4                   SVO             ULV  Scheduled           SU9   \n",
      "...                 ...             ...        ...           ...   \n",
      "33116               SKX             SVO    Arrived           CR2   \n",
      "33117               SKX             SVO    Arrived           CR2   \n",
      "33118               SKX             SVO  Scheduled           CR2   \n",
      "33119               SKX             SVO    Arrived           CR2   \n",
      "33120               SKX             SVO  Scheduled           CR2   \n",
      "\n",
      "             actual_departure          actual_arrival  \n",
      "0                          \\N                      \\N  \n",
      "1                          \\N                      \\N  \n",
      "2                          \\N                      \\N  \n",
      "3                          \\N                      \\N  \n",
      "4                          \\N                      \\N  \n",
      "...                       ...                     ...  \n",
      "33116  2017-08-02 19:25:00+03  2017-08-02 20:10:00+03  \n",
      "33117  2017-07-28 19:30:00+03  2017-07-28 20:15:00+03  \n",
      "33118                      \\N                      \\N  \n",
      "33119  2017-08-01 19:26:00+03  2017-08-01 20:12:00+03  \n",
      "33120                      \\N                      \\N  \n",
      "\n",
      "[33121 rows x 10 columns]\n",
      "seats\n",
      "\n",
      "     aircraft_code seat_no fare_conditions\n",
      "0              319      2A        Business\n",
      "1              319      2C        Business\n",
      "2              319      2D        Business\n",
      "3              319      2F        Business\n",
      "4              319      3A        Business\n",
      "...            ...     ...             ...\n",
      "1334           773     48H         Economy\n",
      "1335           773     48K         Economy\n",
      "1336           773     49A         Economy\n",
      "1337           773     49C         Economy\n",
      "1338           773     49D         Economy\n",
      "\n",
      "[1339 rows x 3 columns]\n",
      "ticket_flights\n",
      "\n",
      "             ticket_no  flight_id fare_conditions  amount\n",
      "0        0005432159776      30625        Business   42100\n",
      "1        0005435212351      30625        Business   42100\n",
      "2        0005435212386      30625        Business   42100\n",
      "3        0005435212381      30625        Business   42100\n",
      "4        0005432211370      30625        Business   42100\n",
      "...                ...        ...             ...     ...\n",
      "1045721  0005435097522      32094         Economy    5200\n",
      "1045722  0005435097521      32094         Economy    5200\n",
      "1045723  0005435104384      32094         Economy    5200\n",
      "1045724  0005435104352      32094         Economy    5200\n",
      "1045725  0005435104389      32094         Economy    5200\n",
      "\n",
      "[1045726 rows x 4 columns]\n",
      "tickets\n",
      "\n",
      "            ticket_no book_ref passenger_id\n",
      "0       0005432000987   06B046  8149 604011\n",
      "1       0005432000988   06B046  8499 420203\n",
      "2       0005432000989   E170C3  1011 752484\n",
      "3       0005432000990   E170C3  4849 400049\n",
      "4       0005432000991   F313DD  6615 976589\n",
      "...               ...      ...          ...\n",
      "366728  0005435999869   D730BA  0474 690760\n",
      "366729  0005435999870   D730BA  6535 751108\n",
      "366730  0005435999871   A1AD46  1596 156448\n",
      "366731  0005435999872   7B6A53  9374 822707\n",
      "366732  0005435999873   7B6A53  7380 075822\n",
      "\n",
      "[366733 rows x 3 columns]\n"
     ]
    }
   ],
   "source": [
    "for table in table_list:\n",
    "    print(table)\n",
    "    print()\n",
    "    df_data=pd.read_sql_query(f\"select *from {table}\",connection)\n",
    "    print(df_data)"
   ]
  },
  {
   "cell_type": "code",
   "execution_count": 28,
   "id": "04515fde-24d6-41c9-aa6c-0f449bda8090",
   "metadata": {},
   "outputs": [
    {
     "data": {
      "text/plain": [
       "ticket_no       object\n",
       "book_ref        object\n",
       "passenger_id    object\n",
       "book_ref        object\n",
       "book_date       object\n",
       "total_amount     int64\n",
       "dtype: object"
      ]
     },
     "execution_count": 28,
     "metadata": {},
     "output_type": "execute_result"
    }
   ],
   "source": [
    "tickets=pd.read_sql_query('''select *\n",
    "                    from tickets as t inner join bookings as b \n",
    "                    on t.book_ref=b.book_ref ''',connection)\n",
    "tickets.dtypes  # book_date is object form so change the date time"
   ]
  },
  {
   "cell_type": "code",
   "execution_count": 29,
   "id": "626dac92-208f-4d57-a59b-ab228ef70b4a",
   "metadata": {},
   "outputs": [
    {
     "data": {
      "text/plain": [
       "ticket_no                          object\n",
       "book_ref                           object\n",
       "passenger_id                       object\n",
       "book_ref                           object\n",
       "book_date       datetime64[ns, UTC+03:00]\n",
       "total_amount                        int64\n",
       "dtype: object"
      ]
     },
     "execution_count": 29,
     "metadata": {},
     "output_type": "execute_result"
    }
   ],
   "source": [
    "tickets['book_date']=pd.to_datetime(tickets['book_date'])\n",
    "tickets.dtypes # sucessfully change the date time "
   ]
  },
  {
   "cell_type": "code",
   "execution_count": 30,
   "id": "bab94f27-3ff9-4b80-8706-d46ce10acd56",
   "metadata": {},
   "outputs": [
    {
     "data": {
      "text/html": [
       "<div>\n",
       "<style scoped>\n",
       "    .dataframe tbody tr th:only-of-type {\n",
       "        vertical-align: middle;\n",
       "    }\n",
       "\n",
       "    .dataframe tbody tr th {\n",
       "        vertical-align: top;\n",
       "    }\n",
       "\n",
       "    .dataframe thead th {\n",
       "        text-align: right;\n",
       "    }\n",
       "</style>\n",
       "<table border=\"1\" class=\"dataframe\">\n",
       "  <thead>\n",
       "    <tr style=\"text-align: right;\">\n",
       "      <th></th>\n",
       "      <th>ticket_no</th>\n",
       "      <th>book_ref</th>\n",
       "      <th>passenger_id</th>\n",
       "      <th>book_ref</th>\n",
       "      <th>book_date</th>\n",
       "      <th>total_amount</th>\n",
       "      <th>date</th>\n",
       "    </tr>\n",
       "  </thead>\n",
       "  <tbody>\n",
       "    <tr>\n",
       "      <th>0</th>\n",
       "      <td>0005432000987</td>\n",
       "      <td>06B046</td>\n",
       "      <td>8149 604011</td>\n",
       "      <td>06B046</td>\n",
       "      <td>2017-07-05 20:19:00+03:00</td>\n",
       "      <td>12400</td>\n",
       "      <td>2017-07-05</td>\n",
       "    </tr>\n",
       "    <tr>\n",
       "      <th>1</th>\n",
       "      <td>0005432000988</td>\n",
       "      <td>06B046</td>\n",
       "      <td>8499 420203</td>\n",
       "      <td>06B046</td>\n",
       "      <td>2017-07-05 20:19:00+03:00</td>\n",
       "      <td>12400</td>\n",
       "      <td>2017-07-05</td>\n",
       "    </tr>\n",
       "    <tr>\n",
       "      <th>2</th>\n",
       "      <td>0005432000989</td>\n",
       "      <td>E170C3</td>\n",
       "      <td>1011 752484</td>\n",
       "      <td>E170C3</td>\n",
       "      <td>2017-06-29 01:55:00+03:00</td>\n",
       "      <td>24700</td>\n",
       "      <td>2017-06-29</td>\n",
       "    </tr>\n",
       "    <tr>\n",
       "      <th>3</th>\n",
       "      <td>0005432000990</td>\n",
       "      <td>E170C3</td>\n",
       "      <td>4849 400049</td>\n",
       "      <td>E170C3</td>\n",
       "      <td>2017-06-29 01:55:00+03:00</td>\n",
       "      <td>24700</td>\n",
       "      <td>2017-06-29</td>\n",
       "    </tr>\n",
       "    <tr>\n",
       "      <th>4</th>\n",
       "      <td>0005432000991</td>\n",
       "      <td>F313DD</td>\n",
       "      <td>6615 976589</td>\n",
       "      <td>F313DD</td>\n",
       "      <td>2017-07-03 04:37:00+03:00</td>\n",
       "      <td>30900</td>\n",
       "      <td>2017-07-03</td>\n",
       "    </tr>\n",
       "  </tbody>\n",
       "</table>\n",
       "</div>"
      ],
      "text/plain": [
       "       ticket_no book_ref passenger_id book_ref                 book_date  \\\n",
       "0  0005432000987   06B046  8149 604011   06B046 2017-07-05 20:19:00+03:00   \n",
       "1  0005432000988   06B046  8499 420203   06B046 2017-07-05 20:19:00+03:00   \n",
       "2  0005432000989   E170C3  1011 752484   E170C3 2017-06-29 01:55:00+03:00   \n",
       "3  0005432000990   E170C3  4849 400049   E170C3 2017-06-29 01:55:00+03:00   \n",
       "4  0005432000991   F313DD  6615 976589   F313DD 2017-07-03 04:37:00+03:00   \n",
       "\n",
       "   total_amount        date  \n",
       "0         12400  2017-07-05  \n",
       "1         12400  2017-07-05  \n",
       "2         24700  2017-06-29  \n",
       "3         24700  2017-06-29  \n",
       "4         30900  2017-07-03  "
      ]
     },
     "execution_count": 30,
     "metadata": {},
     "output_type": "execute_result"
    }
   ],
   "source": [
    "tickets['date']=tickets['book_date'].dt.date\n",
    "tickets.head()  # extract only date from book_date "
   ]
  },
  {
   "cell_type": "code",
   "execution_count": 31,
   "id": "59a97dd7-694e-44cc-8079-aa0bdde69c93",
   "metadata": {},
   "outputs": [
    {
     "data": {
      "image/png": "[encoded data removed]",
      "text/plain": [
       "<Figure size 1800x700 with 1 Axes>"
      ]
     },
     "metadata": {},
     "output_type": "display_data"
    }
   ],
   "source": [
    "x=tickets.groupby('date')[['date']].count()\n",
    "plt.figure(figsize=(18,7))\n",
    "plt.plot(x.index,x['date'],marker='^')\n",
    "plt.xlabel('Date',fontsize=20)\n",
    "plt.ylabel(\"Number of Ticket\",fontsize=20)\n",
    "plt.xticks(fontsize=14)\n",
    "plt.yticks(fontsize=14)\n",
    "plt.grid('b')\n",
    "plt.show()"
   ]
  },
  {
   "cell_type": "code",
   "execution_count": 32,
   "id": "d0760dc4-0bea-415a-b699-735a4eb0fa24",
   "metadata": {},
   "outputs": [
    {
     "data": {
      "text/html": [
       "<div>\n",
       "<style scoped>\n",
       "    .dataframe tbody tr th:only-of-type {\n",
       "        vertical-align: middle;\n",
       "    }\n",
       "\n",
       "    .dataframe tbody tr th {\n",
       "        vertical-align: top;\n",
       "    }\n",
       "\n",
       "    .dataframe thead th {\n",
       "        text-align: right;\n",
       "    }\n",
       "</style>\n",
       "<table border=\"1\" class=\"dataframe\">\n",
       "  <thead>\n",
       "    <tr style=\"text-align: right;\">\n",
       "      <th></th>\n",
       "      <th>book_ref</th>\n",
       "      <th>book_date</th>\n",
       "      <th>total_amount</th>\n",
       "    </tr>\n",
       "  </thead>\n",
       "  <tbody>\n",
       "    <tr>\n",
       "      <th>0</th>\n",
       "      <td>00000F</td>\n",
       "      <td>2017-07-05 03:12:00+03</td>\n",
       "      <td>265700</td>\n",
       "    </tr>\n",
       "    <tr>\n",
       "      <th>1</th>\n",
       "      <td>000012</td>\n",
       "      <td>2017-07-14 09:02:00+03</td>\n",
       "      <td>37900</td>\n",
       "    </tr>\n",
       "  </tbody>\n",
       "</table>\n",
       "</div>"
      ],
      "text/plain": [
       "  book_ref               book_date  total_amount\n",
       "0   00000F  2017-07-05 03:12:00+03        265700\n",
       "1   000012  2017-07-14 09:02:00+03         37900"
      ]
     },
     "execution_count": 32,
     "metadata": {},
     "output_type": "execute_result"
    }
   ],
   "source": [
    "booking=pd.read_sql_query(\"select *from bookings\",connection)\n",
    "booking.head(2)"
   ]
  },
  {
   "cell_type": "code",
   "execution_count": 33,
   "id": "59022d98-9ff8-4f1e-b318-3edee3ad882f",
   "metadata": {},
   "outputs": [
    {
     "data": {
      "text/plain": [
       "book_ref        object\n",
       "book_date       object\n",
       "total_amount     int64\n",
       "dtype: object"
      ]
     },
     "execution_count": 33,
     "metadata": {},
     "output_type": "execute_result"
    }
   ],
   "source": [
    "booking.dtypes"
   ]
  },
  {
   "cell_type": "code",
   "execution_count": 34,
   "id": "a1d36822-5c9b-44c6-ac93-36979a6acd44",
   "metadata": {},
   "outputs": [
    {
     "data": {
      "text/plain": [
       "book_ref                           object\n",
       "book_date       datetime64[ns, UTC+03:00]\n",
       "total_amount                        int64\n",
       "dtype: object"
      ]
     },
     "execution_count": 34,
     "metadata": {},
     "output_type": "execute_result"
    }
   ],
   "source": [
    "booking['book_date']=pd.to_datetime(booking['book_date'])\n",
    "booking.dtypes"
   ]
  },
  {
   "cell_type": "code",
   "execution_count": 35,
   "id": "98eb2bd6-3f3a-4dc7-b6b2-7c824a0feb82",
   "metadata": {},
   "outputs": [
    {
     "data": {
      "text/html": [
       "<div>\n",
       "<style scoped>\n",
       "    .dataframe tbody tr th:only-of-type {\n",
       "        vertical-align: middle;\n",
       "    }\n",
       "\n",
       "    .dataframe tbody tr th {\n",
       "        vertical-align: top;\n",
       "    }\n",
       "\n",
       "    .dataframe thead th {\n",
       "        text-align: right;\n",
       "    }\n",
       "</style>\n",
       "<table border=\"1\" class=\"dataframe\">\n",
       "  <thead>\n",
       "    <tr style=\"text-align: right;\">\n",
       "      <th></th>\n",
       "      <th>book_ref</th>\n",
       "      <th>book_date</th>\n",
       "      <th>total_amount</th>\n",
       "      <th>date</th>\n",
       "    </tr>\n",
       "  </thead>\n",
       "  <tbody>\n",
       "    <tr>\n",
       "      <th>0</th>\n",
       "      <td>00000F</td>\n",
       "      <td>2017-07-05 03:12:00+03:00</td>\n",
       "      <td>265700</td>\n",
       "      <td>2017-07-05</td>\n",
       "    </tr>\n",
       "    <tr>\n",
       "      <th>1</th>\n",
       "      <td>000012</td>\n",
       "      <td>2017-07-14 09:02:00+03:00</td>\n",
       "      <td>37900</td>\n",
       "      <td>2017-07-14</td>\n",
       "    </tr>\n",
       "  </tbody>\n",
       "</table>\n",
       "</div>"
      ],
      "text/plain": [
       "  book_ref                 book_date  total_amount        date\n",
       "0   00000F 2017-07-05 03:12:00+03:00        265700  2017-07-05\n",
       "1   000012 2017-07-14 09:02:00+03:00         37900  2017-07-14"
      ]
     },
     "execution_count": 35,
     "metadata": {},
     "output_type": "execute_result"
    }
   ],
   "source": [
    "booking['date']=booking['book_date'].dt.date\n",
    "booking.head(2)"
   ]
  },
  {
   "cell_type": "code",
   "execution_count": 36,
   "id": "25ab3e2d-fe53-4a0f-980a-c77d109e17eb",
   "metadata": {},
   "outputs": [
    {
     "data": {
      "text/html": [
       "<div>\n",
       "<style scoped>\n",
       "    .dataframe tbody tr th:only-of-type {\n",
       "        vertical-align: middle;\n",
       "    }\n",
       "\n",
       "    .dataframe tbody tr th {\n",
       "        vertical-align: top;\n",
       "    }\n",
       "\n",
       "    .dataframe thead th {\n",
       "        text-align: right;\n",
       "    }\n",
       "</style>\n",
       "<table border=\"1\" class=\"dataframe\">\n",
       "  <thead>\n",
       "    <tr style=\"text-align: right;\">\n",
       "      <th></th>\n",
       "      <th>total_amount</th>\n",
       "    </tr>\n",
       "    <tr>\n",
       "      <th>date</th>\n",
       "      <th></th>\n",
       "    </tr>\n",
       "  </thead>\n",
       "  <tbody>\n",
       "    <tr>\n",
       "      <th>2017-06-21</th>\n",
       "      <td>441900</td>\n",
       "    </tr>\n",
       "    <tr>\n",
       "      <th>2017-06-22</th>\n",
       "      <td>775300</td>\n",
       "    </tr>\n",
       "  </tbody>\n",
       "</table>\n",
       "</div>"
      ],
      "text/plain": [
       "            total_amount\n",
       "date                    \n",
       "2017-06-21        441900\n",
       "2017-06-22        775300"
      ]
     },
     "execution_count": 36,
     "metadata": {},
     "output_type": "execute_result"
    }
   ],
   "source": [
    "x=booking.groupby('date')[['total_amount']].sum()\n",
    "x.head(2)"
   ]
  },
  {
   "cell_type": "code",
   "execution_count": 37,
   "id": "eba8deac-2be8-408e-9e40-16ad83badd69",
   "metadata": {},
   "outputs": [
    {
     "data": {
      "image/png": "[encoded data removed]",
      "text/plain": [
       "<Figure size 1800x700 with 1 Axes>"
      ]
     },
     "metadata": {},
     "output_type": "display_data"
    }
   ],
   "source": [
    "x=booking.groupby('date')[['total_amount']].sum()\n",
    "plt.figure(figsize=(18,7))\n",
    "plt.plot(x.index,x['total_amount'],marker='^')\n",
    "plt.xlabel('Date',fontsize=20)\n",
    "plt.ylabel(\"total_amoun earned\",fontsize=20)\n",
    "plt.xticks(fontsize=14)\n",
    "plt.yticks(fontsize=14)\n",
    "plt.grid('b')\n",
    "plt.show()"
   ]
  },
  {
   "cell_type": "markdown",
   "id": "40cba3d8-5ab5-47d9-b0c9-992f11e85a1a",
   "metadata": {},
   "source": [
    "**Calculate the average charges for each aircraft with different fare conditions.**"
   ]
  },
  {
   "cell_type": "code",
   "execution_count": 38,
   "id": "acc7b06f-7a48-465e-a09e-0c2999a62691",
   "metadata": {},
   "outputs": [
    {
     "data": {
      "text/html": [
       "<div>\n",
       "<style scoped>\n",
       "    .dataframe tbody tr th:only-of-type {\n",
       "        vertical-align: middle;\n",
       "    }\n",
       "\n",
       "    .dataframe tbody tr th {\n",
       "        vertical-align: top;\n",
       "    }\n",
       "\n",
       "    .dataframe thead th {\n",
       "        text-align: right;\n",
       "    }\n",
       "</style>\n",
       "<table border=\"1\" class=\"dataframe\">\n",
       "  <thead>\n",
       "    <tr style=\"text-align: right;\">\n",
       "      <th></th>\n",
       "      <th>fare_conditions</th>\n",
       "      <th>aircraft_code</th>\n",
       "      <th>avg(amount)</th>\n",
       "    </tr>\n",
       "  </thead>\n",
       "  <tbody>\n",
       "    <tr>\n",
       "      <th>0</th>\n",
       "      <td>Business</td>\n",
       "      <td>319</td>\n",
       "      <td>113550.557703</td>\n",
       "    </tr>\n",
       "    <tr>\n",
       "      <th>1</th>\n",
       "      <td>Economy</td>\n",
       "      <td>319</td>\n",
       "      <td>38311.402347</td>\n",
       "    </tr>\n",
       "    <tr>\n",
       "      <th>2</th>\n",
       "      <td>Business</td>\n",
       "      <td>321</td>\n",
       "      <td>34435.662664</td>\n",
       "    </tr>\n",
       "  </tbody>\n",
       "</table>\n",
       "</div>"
      ],
      "text/plain": [
       "  fare_conditions aircraft_code    avg(amount)\n",
       "0        Business           319  113550.557703\n",
       "1         Economy           319   38311.402347\n",
       "2        Business           321   34435.662664"
      ]
     },
     "execution_count": 38,
     "metadata": {},
     "output_type": "execute_result"
    }
   ],
   "source": [
    "df=pd.read_sql_query('''select fare_conditions,aircraft_code,avg(amount) from ticket_flights  join flights  on\n",
    "                       ticket_flights.flight_id=flights.flight_id group by aircraft_code,fare_conditions''',connection)\n",
    "df.head(3)"
   ]
  },
  {
   "cell_type": "code",
   "execution_count": 39,
   "id": "dc11e71c-702e-48a0-b6f5-7f829343aab4",
   "metadata": {},
   "outputs": [
    {
     "data": {
      "image/png": "[encoded data removed]",
      "text/plain": [
       "<Figure size 640x480 with 1 Axes>"
      ]
     },
     "metadata": {},
     "output_type": "display_data"
    }
   ],
   "source": [
    "sns.barplot(data=df,x='aircraft_code',y='avg(amount)',hue='fare_conditions')\n",
    "plt.show()"
   ]
  },
  {
   "cell_type": "markdown",
   "id": "002ae527-4662-4d5e-a441-0051219f941c",
   "metadata": {},
   "source": [
    "### **Analyzing occupancy rate**"
   ]
  },
  {
   "cell_type": "markdown",
   "id": "474db54d-af12-4b94-b30e-627ed30b04c1",
   "metadata": {},
   "source": [
    "**For each aircraft calculate the total revenue per year and the average revenue per ticket.**"
   ]
  },
  {
   "cell_type": "code",
   "execution_count": 40,
   "id": "6b61e891-7fa3-4edf-b3fa-ee3e2ee9daf9",
   "metadata": {},
   "outputs": [
    {
     "data": {
      "text/html": [
       "<div>\n",
       "<style scoped>\n",
       "    .dataframe tbody tr th:only-of-type {\n",
       "        vertical-align: middle;\n",
       "    }\n",
       "\n",
       "    .dataframe tbody tr th {\n",
       "        vertical-align: top;\n",
       "    }\n",
       "\n",
       "    .dataframe thead th {\n",
       "        text-align: right;\n",
       "    }\n",
       "</style>\n",
       "<table border=\"1\" class=\"dataframe\">\n",
       "  <thead>\n",
       "    <tr style=\"text-align: right;\">\n",
       "      <th></th>\n",
       "      <th>aircraft_code</th>\n",
       "      <th>ticket_count</th>\n",
       "      <th>total_revenue</th>\n",
       "      <th>Avg_revenue_per_ticket</th>\n",
       "    </tr>\n",
       "  </thead>\n",
       "  <tbody>\n",
       "    <tr>\n",
       "      <th>0</th>\n",
       "      <td>319</td>\n",
       "      <td>52853</td>\n",
       "      <td>2706163100</td>\n",
       "      <td>51201</td>\n",
       "    </tr>\n",
       "    <tr>\n",
       "      <th>1</th>\n",
       "      <td>321</td>\n",
       "      <td>107129</td>\n",
       "      <td>1638164100</td>\n",
       "      <td>15291</td>\n",
       "    </tr>\n",
       "    <tr>\n",
       "      <th>2</th>\n",
       "      <td>733</td>\n",
       "      <td>86102</td>\n",
       "      <td>1426552100</td>\n",
       "      <td>16568</td>\n",
       "    </tr>\n",
       "    <tr>\n",
       "      <th>3</th>\n",
       "      <td>763</td>\n",
       "      <td>124774</td>\n",
       "      <td>4371277100</td>\n",
       "      <td>35033</td>\n",
       "    </tr>\n",
       "    <tr>\n",
       "      <th>4</th>\n",
       "      <td>773</td>\n",
       "      <td>144376</td>\n",
       "      <td>3431205500</td>\n",
       "      <td>23765</td>\n",
       "    </tr>\n",
       "    <tr>\n",
       "      <th>5</th>\n",
       "      <td>CN1</td>\n",
       "      <td>14672</td>\n",
       "      <td>96373800</td>\n",
       "      <td>6568</td>\n",
       "    </tr>\n",
       "    <tr>\n",
       "      <th>6</th>\n",
       "      <td>CR2</td>\n",
       "      <td>150122</td>\n",
       "      <td>1982760500</td>\n",
       "      <td>13207</td>\n",
       "    </tr>\n",
       "    <tr>\n",
       "      <th>7</th>\n",
       "      <td>SU9</td>\n",
       "      <td>365698</td>\n",
       "      <td>5114484700</td>\n",
       "      <td>13985</td>\n",
       "    </tr>\n",
       "  </tbody>\n",
       "</table>\n",
       "</div>"
      ],
      "text/plain": [
       "  aircraft_code  ticket_count  total_revenue  Avg_revenue_per_ticket\n",
       "0           319         52853     2706163100                   51201\n",
       "1           321        107129     1638164100                   15291\n",
       "2           733         86102     1426552100                   16568\n",
       "3           763        124774     4371277100                   35033\n",
       "4           773        144376     3431205500                   23765\n",
       "5           CN1         14672       96373800                    6568\n",
       "6           CR2        150122     1982760500                   13207\n",
       "7           SU9        365698     5114484700                   13985"
      ]
     },
     "execution_count": 40,
     "metadata": {},
     "output_type": "execute_result"
    }
   ],
   "source": [
    "df=pd.read_sql_query('''select aircraft_code, count(*) as ticket_count, sum(amount) as total_revenue, sum(amount)/count(*) as Avg_revenue_per_ticket from\n",
    "                        ticket_flights  join flights  on ticket_flights.flight_id=flights.flight_id group by aircraft_code''',connection)\n",
    "\n",
    "df"
   ]
  },
  {
   "cell_type": "markdown",
   "id": "945ed6d3-22a5-40de-9bce-113878f21685",
   "metadata": {},
   "source": [
    "**Calculate the average occupancy per aircraft.**"
   ]
  },
  {
   "cell_type": "code",
   "execution_count": 41,
   "id": "37b93064-37fb-4647-becf-a73bc459c071",
   "metadata": {},
   "outputs": [
    {
     "data": {
      "text/html": [
       "<div>\n",
       "<style scoped>\n",
       "    .dataframe tbody tr th:only-of-type {\n",
       "        vertical-align: middle;\n",
       "    }\n",
       "\n",
       "    .dataframe tbody tr th {\n",
       "        vertical-align: top;\n",
       "    }\n",
       "\n",
       "    .dataframe thead th {\n",
       "        text-align: right;\n",
       "    }\n",
       "</style>\n",
       "<table border=\"1\" class=\"dataframe\">\n",
       "  <thead>\n",
       "    <tr style=\"text-align: right;\">\n",
       "      <th></th>\n",
       "      <th>aircraft_code</th>\n",
       "      <th>booked_seats</th>\n",
       "      <th>num_seats</th>\n",
       "      <th>occupancy_rate</th>\n",
       "    </tr>\n",
       "  </thead>\n",
       "  <tbody>\n",
       "    <tr>\n",
       "      <th>0</th>\n",
       "      <td>319</td>\n",
       "      <td>53.583181</td>\n",
       "      <td>116</td>\n",
       "      <td>0.461924</td>\n",
       "    </tr>\n",
       "    <tr>\n",
       "      <th>1</th>\n",
       "      <td>321</td>\n",
       "      <td>88.809231</td>\n",
       "      <td>170</td>\n",
       "      <td>0.522407</td>\n",
       "    </tr>\n",
       "    <tr>\n",
       "      <th>2</th>\n",
       "      <td>733</td>\n",
       "      <td>80.255462</td>\n",
       "      <td>130</td>\n",
       "      <td>0.617350</td>\n",
       "    </tr>\n",
       "    <tr>\n",
       "      <th>3</th>\n",
       "      <td>763</td>\n",
       "      <td>113.937294</td>\n",
       "      <td>222</td>\n",
       "      <td>0.513231</td>\n",
       "    </tr>\n",
       "    <tr>\n",
       "      <th>4</th>\n",
       "      <td>773</td>\n",
       "      <td>264.925806</td>\n",
       "      <td>402</td>\n",
       "      <td>0.659019</td>\n",
       "    </tr>\n",
       "    <tr>\n",
       "      <th>5</th>\n",
       "      <td>CN1</td>\n",
       "      <td>6.004431</td>\n",
       "      <td>12</td>\n",
       "      <td>0.500369</td>\n",
       "    </tr>\n",
       "    <tr>\n",
       "      <th>6</th>\n",
       "      <td>CR2</td>\n",
       "      <td>21.482847</td>\n",
       "      <td>50</td>\n",
       "      <td>0.429657</td>\n",
       "    </tr>\n",
       "    <tr>\n",
       "      <th>7</th>\n",
       "      <td>SU9</td>\n",
       "      <td>56.812113</td>\n",
       "      <td>97</td>\n",
       "      <td>0.585692</td>\n",
       "    </tr>\n",
       "  </tbody>\n",
       "</table>\n",
       "</div>"
      ],
      "text/plain": [
       "  aircraft_code  booked_seats  num_seats  occupancy_rate\n",
       "0           319     53.583181        116        0.461924\n",
       "1           321     88.809231        170        0.522407\n",
       "2           733     80.255462        130        0.617350\n",
       "3           763    113.937294        222        0.513231\n",
       "4           773    264.925806        402        0.659019\n",
       "5           CN1      6.004431         12        0.500369\n",
       "6           CR2     21.482847         50        0.429657\n",
       "7           SU9     56.812113         97        0.585692"
      ]
     },
     "execution_count": 41,
     "metadata": {},
     "output_type": "execute_result"
    }
   ],
   "source": [
    "occupancy_rate=pd.read_sql_query('''select a.aircraft_code,avg(a.seats_count) as booked_seats, b.num_seats,avg(a.seats_count)/b.num_seats as occupancy_rate \n",
    "                     from \n",
    "                       (\n",
    "                       select aircraft_code,flights.flight_id,count(*) as seats_count from boarding_passes\n",
    "                     inner join flights\n",
    "                       on boarding_passes.flight_id=flights.flight_id \n",
    "                       group by aircraft_code,flights.flight_id) as a                   \n",
    "                     inner join\n",
    "                       (select aircraft_code, count(*) as num_seats from seats group by aircraft_code) as b \n",
    "                       on a.aircraft_code=b.aircraft_code group by a.aircraft_code''',connection)\n",
    "                     \n",
    "occupancy_rate\n"
   ]
  },
  {
   "cell_type": "code",
   "execution_count": 55,
   "id": "68fc7f91-b5ca-45bc-93b3-22a02ad1c220",
   "metadata": {},
   "outputs": [
    {
     "data": {
      "image/png": "[encoded data removed]",
      "text/plain": [
       "<Figure size 1200x400 with 1 Axes>"
      ]
     },
     "metadata": {},
     "output_type": "display_data"
    }
   ],
   "source": [
    "aircraft_code=occupancy_rate[\"aircraft_code\"]\n",
    "Occupancy_rate=occupancy_rate[\"occupancy_rate\"]\n",
    "plt.figure(figsize=(12,4))\n",
    "plt.bar(aircraft_code,Occupancy_rate,color='deepskyblue')\n",
    "plt.show()"
   ]
  },
  {
   "cell_type": "markdown",
   "id": "cb045149-f1e2-4582-bf98-e4815cb5ff8a",
   "metadata": {},
   "source": [
    "**Calculate by how much the total annual turnover could increase by giving all aircraft a 10% higher occupancy rate.**"
   ]
  },
  {
   "cell_type": "code",
   "execution_count": 42,
   "id": "7df6a0db-1327-4818-8afb-07e32e60f794",
   "metadata": {},
   "outputs": [
    {
     "data": {
      "text/html": [
       "<div>\n",
       "<style scoped>\n",
       "    .dataframe tbody tr th:only-of-type {\n",
       "        vertical-align: middle;\n",
       "    }\n",
       "\n",
       "    .dataframe tbody tr th {\n",
       "        vertical-align: top;\n",
       "    }\n",
       "\n",
       "    .dataframe thead th {\n",
       "        text-align: right;\n",
       "    }\n",
       "</style>\n",
       "<table border=\"1\" class=\"dataframe\">\n",
       "  <thead>\n",
       "    <tr style=\"text-align: right;\">\n",
       "      <th></th>\n",
       "      <th>aircraft_code</th>\n",
       "      <th>booked_seats</th>\n",
       "      <th>num_seats</th>\n",
       "      <th>occupancy_rate</th>\n",
       "      <th>inc occupancy rate</th>\n",
       "    </tr>\n",
       "  </thead>\n",
       "  <tbody>\n",
       "    <tr>\n",
       "      <th>0</th>\n",
       "      <td>319</td>\n",
       "      <td>53.583181</td>\n",
       "      <td>116</td>\n",
       "      <td>0.461924</td>\n",
       "      <td>0.508116</td>\n",
       "    </tr>\n",
       "    <tr>\n",
       "      <th>1</th>\n",
       "      <td>321</td>\n",
       "      <td>88.809231</td>\n",
       "      <td>170</td>\n",
       "      <td>0.522407</td>\n",
       "      <td>0.574648</td>\n",
       "    </tr>\n",
       "    <tr>\n",
       "      <th>2</th>\n",
       "      <td>733</td>\n",
       "      <td>80.255462</td>\n",
       "      <td>130</td>\n",
       "      <td>0.617350</td>\n",
       "      <td>0.679085</td>\n",
       "    </tr>\n",
       "    <tr>\n",
       "      <th>3</th>\n",
       "      <td>763</td>\n",
       "      <td>113.937294</td>\n",
       "      <td>222</td>\n",
       "      <td>0.513231</td>\n",
       "      <td>0.564554</td>\n",
       "    </tr>\n",
       "    <tr>\n",
       "      <th>4</th>\n",
       "      <td>773</td>\n",
       "      <td>264.925806</td>\n",
       "      <td>402</td>\n",
       "      <td>0.659019</td>\n",
       "      <td>0.724921</td>\n",
       "    </tr>\n",
       "    <tr>\n",
       "      <th>5</th>\n",
       "      <td>CN1</td>\n",
       "      <td>6.004431</td>\n",
       "      <td>12</td>\n",
       "      <td>0.500369</td>\n",
       "      <td>0.550406</td>\n",
       "    </tr>\n",
       "    <tr>\n",
       "      <th>6</th>\n",
       "      <td>CR2</td>\n",
       "      <td>21.482847</td>\n",
       "      <td>50</td>\n",
       "      <td>0.429657</td>\n",
       "      <td>0.472623</td>\n",
       "    </tr>\n",
       "    <tr>\n",
       "      <th>7</th>\n",
       "      <td>SU9</td>\n",
       "      <td>56.812113</td>\n",
       "      <td>97</td>\n",
       "      <td>0.585692</td>\n",
       "      <td>0.644261</td>\n",
       "    </tr>\n",
       "  </tbody>\n",
       "</table>\n",
       "</div>"
      ],
      "text/plain": [
       "  aircraft_code  booked_seats  num_seats  occupancy_rate  inc occupancy rate\n",
       "0           319     53.583181        116        0.461924            0.508116\n",
       "1           321     88.809231        170        0.522407            0.574648\n",
       "2           733     80.255462        130        0.617350            0.679085\n",
       "3           763    113.937294        222        0.513231            0.564554\n",
       "4           773    264.925806        402        0.659019            0.724921\n",
       "5           CN1      6.004431         12        0.500369            0.550406\n",
       "6           CR2     21.482847         50        0.429657            0.472623\n",
       "7           SU9     56.812113         97        0.585692            0.644261"
      ]
     },
     "execution_count": 42,
     "metadata": {},
     "output_type": "execute_result"
    }
   ],
   "source": [
    "occupancy_rate['inc occupancy rate']=occupancy_rate['occupancy_rate']+occupancy_rate['occupancy_rate']*0.1\n",
    "occupancy_rate"
   ]
  },
  {
   "cell_type": "code",
   "execution_count": 43,
   "id": "1881f8b0-4b77-47f7-a327-34b1c6c9e448",
   "metadata": {},
   "outputs": [],
   "source": [
    "pd.set_option('display.float_format',str)"
   ]
  },
  {
   "cell_type": "code",
   "execution_count": 44,
   "id": "f15e2a14-a9a5-4380-92bf-2ea7707e2ba5",
   "metadata": {},
   "outputs": [
    {
     "data": {
      "text/html": [
       "<div>\n",
       "<style scoped>\n",
       "    .dataframe tbody tr th:only-of-type {\n",
       "        vertical-align: middle;\n",
       "    }\n",
       "\n",
       "    .dataframe tbody tr th {\n",
       "        vertical-align: top;\n",
       "    }\n",
       "\n",
       "    .dataframe thead th {\n",
       "        text-align: right;\n",
       "    }\n",
       "</style>\n",
       "<table border=\"1\" class=\"dataframe\">\n",
       "  <thead>\n",
       "    <tr style=\"text-align: right;\">\n",
       "      <th></th>\n",
       "      <th>aircraft_code</th>\n",
       "      <th>booked_seats</th>\n",
       "      <th>num_seats</th>\n",
       "      <th>occupancy_rate</th>\n",
       "      <th>inc occupancy rate</th>\n",
       "      <th>inc Total Annual Turnover</th>\n",
       "    </tr>\n",
       "  </thead>\n",
       "  <tbody>\n",
       "    <tr>\n",
       "      <th>0</th>\n",
       "      <td>319</td>\n",
       "      <td>53.58318098720292</td>\n",
       "      <td>116</td>\n",
       "      <td>0.46192397402761143</td>\n",
       "      <td>0.5081163714303726</td>\n",
       "      <td>2976779410.0</td>\n",
       "    </tr>\n",
       "    <tr>\n",
       "      <th>1</th>\n",
       "      <td>321</td>\n",
       "      <td>88.80923076923077</td>\n",
       "      <td>170</td>\n",
       "      <td>0.5224072398190045</td>\n",
       "      <td>0.574647963800905</td>\n",
       "      <td>1801980510.0</td>\n",
       "    </tr>\n",
       "    <tr>\n",
       "      <th>2</th>\n",
       "      <td>733</td>\n",
       "      <td>80.25546218487395</td>\n",
       "      <td>130</td>\n",
       "      <td>0.617349709114415</td>\n",
       "      <td>0.6790846800258565</td>\n",
       "      <td>1569207310.0000002</td>\n",
       "    </tr>\n",
       "    <tr>\n",
       "      <th>3</th>\n",
       "      <td>763</td>\n",
       "      <td>113.93729372937294</td>\n",
       "      <td>222</td>\n",
       "      <td>0.5132310528350132</td>\n",
       "      <td>0.5645541581185146</td>\n",
       "      <td>4808404810.0</td>\n",
       "    </tr>\n",
       "    <tr>\n",
       "      <th>4</th>\n",
       "      <td>773</td>\n",
       "      <td>264.9258064516129</td>\n",
       "      <td>402</td>\n",
       "      <td>0.659019419033863</td>\n",
       "      <td>0.7249213609372492</td>\n",
       "      <td>3774326050.0</td>\n",
       "    </tr>\n",
       "    <tr>\n",
       "      <th>5</th>\n",
       "      <td>CN1</td>\n",
       "      <td>6.004431314623338</td>\n",
       "      <td>12</td>\n",
       "      <td>0.5003692762186115</td>\n",
       "      <td>0.5504062038404727</td>\n",
       "      <td>106011180.00000001</td>\n",
       "    </tr>\n",
       "    <tr>\n",
       "      <th>6</th>\n",
       "      <td>CR2</td>\n",
       "      <td>21.48284690220174</td>\n",
       "      <td>50</td>\n",
       "      <td>0.42965693804403476</td>\n",
       "      <td>0.4726226318484382</td>\n",
       "      <td>2181036550.0</td>\n",
       "    </tr>\n",
       "    <tr>\n",
       "      <th>7</th>\n",
       "      <td>SU9</td>\n",
       "      <td>56.81211267605634</td>\n",
       "      <td>97</td>\n",
       "      <td>0.5856918832583128</td>\n",
       "      <td>0.644261071584144</td>\n",
       "      <td>5625933169.999999</td>\n",
       "    </tr>\n",
       "  </tbody>\n",
       "</table>\n",
       "</div>"
      ],
      "text/plain": [
       "  aircraft_code       booked_seats  num_seats      occupancy_rate  \\\n",
       "0           319  53.58318098720292        116 0.46192397402761143   \n",
       "1           321  88.80923076923077        170  0.5224072398190045   \n",
       "2           733  80.25546218487395        130   0.617349709114415   \n",
       "3           763 113.93729372937294        222  0.5132310528350132   \n",
       "4           773  264.9258064516129        402   0.659019419033863   \n",
       "5           CN1  6.004431314623338         12  0.5003692762186115   \n",
       "6           CR2  21.48284690220174         50 0.42965693804403476   \n",
       "7           SU9  56.81211267605634         97  0.5856918832583128   \n",
       "\n",
       "   inc occupancy rate  inc Total Annual Turnover  \n",
       "0  0.5081163714303726               2976779410.0  \n",
       "1   0.574647963800905               1801980510.0  \n",
       "2  0.6790846800258565         1569207310.0000002  \n",
       "3  0.5645541581185146               4808404810.0  \n",
       "4  0.7249213609372492               3774326050.0  \n",
       "5  0.5504062038404727         106011180.00000001  \n",
       "6  0.4726226318484382               2181036550.0  \n",
       "7   0.644261071584144          5625933169.999999  "
      ]
     },
     "execution_count": 44,
     "metadata": {},
     "output_type": "execute_result"
    }
   ],
   "source": [
    "total_revenue=pd.read_sql_query('''select aircraft_code,sum(amount) as total_revenue from ticket_flights\n",
    "                                join flights on ticket_flights.flight_id=flights.flight_id group by aircraft_code''',connection)\n",
    "occupancy_rate['inc Total Annual Turnover']=(total_revenue['total_revenue']/occupancy_rate['occupancy_rate'])*occupancy_rate['inc occupancy rate']\n",
    "occupancy_rate"
   ]
  },
  {
   "cell_type": "code",
   "execution_count": null,
   "id": "cfd02062-816d-4909-924f-d4962d763742",
   "metadata": {},
   "outputs": [],
   "source": []
  },
  {
   "cell_type": "code",
   "execution_count": null,
   "id": "367e29f6-30b9-4dc7-8d95-0d425bfd2ca5",
   "metadata": {},
   "outputs": [],
   "source": []
  }
 ],
 "metadata": {
  "kernelspec": {
   "display_name": "Python 3 (ipykernel)",
   "language": "python",
   "name": "python3"
  },
  "language_info": {
   "codemirror_mode": {
    "name": "ipython",
    "version": 3
   },
   "file_extension": ".py",
   "mimetype": "text/x-python",
   "name": "python",
   "nbconvert_exporter": "python",
   "pygments_lexer": "ipython3",
   "version": "3.12.1"
  }
 },
 "nbformat": 4,
 "nbformat_minor": 5
}
